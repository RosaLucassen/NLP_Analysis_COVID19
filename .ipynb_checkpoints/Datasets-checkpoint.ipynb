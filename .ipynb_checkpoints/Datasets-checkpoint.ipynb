{
 "cells": [
  {
   "cell_type": "markdown",
   "metadata": {},
   "source": [
    "# Thesis ADS: Rosa Lucassen"
   ]
  },
  {
   "cell_type": "markdown",
   "metadata": {},
   "source": [
    "## Loading the data"
   ]
  },
  {
   "cell_type": "code",
   "execution_count": 4,
   "metadata": {},
   "outputs": [],
   "source": [
    "import pandas as pd\n",
    "import numpy as np\n",
    "import pickle\n",
    "import spacy\n",
    "nlp = spacy.load(\"en_core_web_sm\")\n",
    "import re\n",
    "from collections import Counter\n",
    "import emoji\n",
    "import stop_words\n",
    "from scipy.stats import chi2_contingency\n",
    "from urllib.parse import urlparse\n",
    "from nltk.stem.porter import PorterStemmer\n",
    "from gensim.corpora import Dictionary\n",
    "from gensim.models.wrappers import LdaMallet\n",
    "\n",
    "import numpy as np\n",
    "import logging\n",
    "import pyLDAvis.gensim\n",
    "import json\n",
    "import warnings\n",
    "warnings.filterwarnings('ignore')  # To ignore all warnings that arise here to enhance clarity\n",
    "from gensim.models.coherencemodel import CoherenceModel\n",
    "from gensim.models.ldamodel import LdaModel\n",
    "from gensim.corpora.dictionary import Dictionary\n",
    "from numpy import array\n",
    "\n",
    "import gensim\n",
    "\n",
    "from gensim.models import Phrases\n",
    "\n",
    "stemmer = PorterStemmer()\n",
    "\n",
    "d_test = pd.read_excel(\"/Users/rosalucassen/Desktop/Thesis/Code/Data/Constraint_English_Test2.xlsx\", engine='openpyxl')\n",
    "d_train = pd.read_excel(\"/Users/rosalucassen/Desktop/Thesis/Code/Data/Constraint_English_Train.xlsx\", engine='openpyxl')\n",
    "d_val = pd.read_excel(\"/Users/rosalucassen/Desktop/Thesis/Code/Data/Constraint_English_Val.xlsx\", engine='openpyxl')\n",
    "d_test_labeled = pd.read_excel(\"/Users/rosalucassen/Desktop/Thesis/Code/Data/english_test_with_labels.xlsx\", engine='openpyxl')"
   ]
  },
  {
   "cell_type": "markdown",
   "metadata": {},
   "source": [
    "## Function: Cleaning data"
   ]
  },
  {
   "cell_type": "code",
   "execution_count": 5,
   "metadata": {},
   "outputs": [],
   "source": [
    "def remove_single_char(text):\n",
    "    single_char_pattern = r'\\s+[a-zA-Z]\\s+'\n",
    "    without_sc = re.sub(pattern=single_char_pattern, repl=\" \", string=text)\n",
    "    return without_sc\n",
    "\n",
    "def remove_numbers(text):\n",
    "    number_pattern = r'\\b(?<![0-9-])(\\d+)(?![0-9-])'\n",
    "    without_number = re.sub(pattern=number_pattern, repl=\" \", string=text)\n",
    "    return without_number\n",
    "\n",
    "\n",
    "def remove_urls(text):\n",
    "    url_pattern = r'https?://\\S+|www\\.\\S+'\n",
    "    without_urls = re.sub(pattern=url_pattern, repl=\" \", string=text)\n",
    "    return without_urls\n",
    "\n",
    "\n",
    "def remove_emojis(text):\n",
    "    emoji_pattern = re.compile(\"[\"\n",
    "                               u\"\\U0001F600-\\U0001F64F\"  # emoticons\n",
    "                               u\"\\U0001F300-\\U0001F5FF\"  # symbols & pictographs\n",
    "                               u\"\\U0001F680-\\U0001F6FF\"  # transport & map symbols\n",
    "                               u\"\\U0001F1E0-\\U0001F1FF\"  # flags (iOS)\n",
    "                               u\"\\U00002500-\\U00002BEF\"  # chinese char\n",
    "                               u\"\\U00002702-\\U000027B0\"\n",
    "                               u\"\\U00002702-\\U000027B0\"\n",
    "                               u\"\\U000024C2-\\U0001F251\"\n",
    "                               u\"\\U0001f926-\\U0001f937\"\n",
    "                               u\"\\U00010000-\\U0010ffff\"\n",
    "                               u\"\\u2640-\\u2642\"\n",
    "                               u\"\\u2600-\\u2B55\"\n",
    "                               u\"\\u200d\"\n",
    "                               u\"\\u23cf\"\n",
    "                               u\"\\u23e9\"\n",
    "                               u\"\\u231a\"\n",
    "                               u\"\\ufe0f\"  # dingbats\n",
    "                               u\"\\u3030\"\n",
    "                               \"]+\", flags=re.UNICODE)\n",
    "    without_emoji = emoji_pattern.sub(r'',text)\n",
    "    return without_emoji\n",
    "\n",
    "def remove_nonalpha(text):\n",
    "    nonalpha_pattern = \"[+$@#?~]\"\n",
    "    without_nonalpha = re.sub(pattern=nonalpha_pattern, repl=\" \", string=text)\n",
    "    return without_nonalpha\n",
    "    \n",
    "def remove_rt(text):\n",
    "    rt_pattern = 'rt @[\\w_]+: '\n",
    "    without_pattern = re.sub(pattern = rt_pattern, repl=\" \", string = text)\n",
    "    return without_pattern \n",
    "\n",
    "def remove_extra_spaces(text):\n",
    "    space_pattern = r'\\s+'\n",
    "    without_space = re.sub(pattern=space_pattern, repl=\" \", string=text)\n",
    "    return without_space\n",
    "\n",
    "\n"
   ]
  },
  {
   "cell_type": "markdown",
   "metadata": {},
   "source": [
    "## Function BiGrams"
   ]
  },
  {
   "cell_type": "code",
   "execution_count": 6,
   "metadata": {},
   "outputs": [],
   "source": [
    "from gensim.models import Phrases\n",
    "def make_n_grams(docs):\n",
    "    # Add bigrams and trigrams to docs (only ones that appear 20 times or more).\n",
    "    bigram = Phrases(docs, min_count=1)\n",
    "    for idx in range(len(docs)):\n",
    "        for token in bigram[docs[idx]]:\n",
    "            if '_' in token:\n",
    "                # Token is a bigram, add to document.\n",
    "                docs[idx].append(token)\n",
    "    return docs"
   ]
  },
  {
   "cell_type": "code",
   "execution_count": 7,
   "metadata": {},
   "outputs": [],
   "source": [
    "def strip_list_noempty(mylist):\n",
    "    newlist = (item.strip() if hasattr(item, 'strip') else item for item in mylist)\n",
    "    return [item for item in newlist if item != '']"
   ]
  },
  {
   "cell_type": "markdown",
   "metadata": {},
   "source": [
    "## Function: Lemmatizing texts"
   ]
  },
  {
   "cell_type": "code",
   "execution_count": 18,
   "metadata": {},
   "outputs": [],
   "source": [
    "def pre_processer_real(corpus):\n",
    "    corpus = [text.lower() for text in corpus]\n",
    "    corpus = [remove_urls(text) for text in corpus]\n",
    "    corpus = [remove_single_char(text) for text in corpus]\n",
    "    corpus = [remove_numbers(text) for text in corpus]\n",
    "    corpus = [remove_rt(text) for text in corpus]\n",
    "    corpus = [remove_emojis(text) for text in corpus]\n",
    "    corpus = [remove_nonalpha(text) for text in corpus]\n",
    "    corpus = [text.encode(\"ascii\", \"ignore\") for text in corpus]\n",
    "    corpus = [text.decode() for text in corpus]\n",
    "    corpus = [remove_extra_spaces(text) for text in corpus]\n",
    "    corpus = strip_list_noempty(corpus)\n",
    "    \n",
    "    processed_texts = [text for text in nlp.pipe(corpus, \n",
    "                                              disable=[\"ner\",\n",
    "                                                       \"parser\"])]\n",
    "    tokenized_texts = [[word.lemma_ for word in lemma_ if not word.is_punct if not word.is_stop] \n",
    "                            for lemma_ in processed_texts]\n",
    "    tokenized_texts = make_n_grams(tokenized_texts)\n",
    "    \n",
    "\n",
    "    #tokenized_texts = filter(lambda text: [text.strip() for text in tokenized_texts], tokenized_texts) \n",
    "    flatten = lambda t: [item for sublist in t for item in sublist]\n",
    "    flat_real = flatten(tokenized_texts)\n",
    "    counts = Counter(flat_real)\n",
    "    total_words = sum(counts.values()) \n",
    "    for word in counts:\n",
    "        counts[word] = counts[word] #* (10000) / total_words\n",
    "    return counts, counts.most_common(), flat_real, tokenized_texts\n",
    "\n",
    "def pre_processer_fake(corpus):\n",
    "    corpus = [text.lower() for text in corpus]\n",
    "    corpus = [remove_urls(text) for text in corpus]\n",
    "    corpus = [remove_single_char(text) for text in corpus]\n",
    "    corpus = [remove_numbers(text) for text in corpus]\n",
    "    corpus = [remove_rt(text) for text in corpus]\n",
    "    corpus = [remove_emojis(text) for text in corpus]\n",
    "    corpus = [remove_nonalpha(text) for text in corpus]\n",
    "    corpus = [text.encode(\"ascii\", \"ignore\") for text in corpus]\n",
    "    corpus = [text.decode() for text in corpus]\n",
    "    corpus = [remove_extra_spaces(text) for text in corpus]\n",
    "    corpus = strip_list_noempty(corpus)\n",
    "\n",
    "    processed_texts = [text for text in nlp.pipe(corpus, \n",
    "                                              disable=[\"ner\",\n",
    "                                                       \"parser\"])]\n",
    "    tokenized_texts = [[word.lemma_ for word in lemma_ if not word.is_punct if not word.is_stop] \n",
    "                            for lemma_ in processed_texts]\n",
    "    tokenized_texts = make_n_grams(tokenized_texts)\n",
    "    \n",
    "    flatten = lambda t: [item for sublist in t for item in sublist]\n",
    "    flat_fake = flatten(tokenized_texts)\n",
    "    counts = Counter(flat_fake)\n",
    "    total_words = sum(counts.values()) \n",
    "    for word in counts:\n",
    "        counts[word] = counts[word] #* (10000) / total_words\n",
    "    return counts, counts.most_common(), flat_fake, tokenized_texts"
   ]
  },
  {
   "cell_type": "markdown",
   "metadata": {},
   "source": [
    "## Function: distinctive words"
   ]
  },
  {
   "cell_type": "code",
   "execution_count": 9,
   "metadata": {},
   "outputs": [],
   "source": [
    "def distinctive_words(target_corpus, reference_corpus):\n",
    "    counts_c1 = Counter(target_corpus) # don't forget to flatten your texts!\n",
    "    counts_c2 = Counter(reference_corpus)\n",
    "    vocabulary = set(list(counts_c1.keys()) + list(counts_c2.keys()))\n",
    "    freq_c1_total = sum(counts_c1.values()) \n",
    "    freq_c2_total = sum(counts_c2.values()) \n",
    "    results = []\n",
    "    for word in vocabulary:\n",
    "        freq_c1 = counts_c1[word]\n",
    "        freq_c2 = counts_c2[word]\n",
    "        freq_c1_other = freq_c1_total - freq_c1\n",
    "        freq_c2_other = freq_c2_total - freq_c2\n",
    "        llr, p_value,_,_ = chi2_contingency([[freq_c1, freq_c2], \n",
    "                      [freq_c1_other, freq_c2_other]],\n",
    "                      lambda_='log-likelihood') \n",
    "        if freq_c2 / freq_c2_other > freq_c1 / freq_c1_other:\n",
    "            llr = -llr\n",
    "        result = {'word':word, \n",
    "                    'llr':llr,\n",
    "                    'p_value': p_value}\n",
    "        results.append(result)\n",
    "    results_df = pd.DataFrame(results)\n",
    "    return results_df"
   ]
  },
  {
   "cell_type": "markdown",
   "metadata": {},
   "source": [
    "## Function: Topic modelling LDA Gensim"
   ]
  },
  {
   "cell_type": "code",
   "execution_count": 10,
   "metadata": {},
   "outputs": [],
   "source": [
    "def topic_modelling(tokenized_text, n_topics, n_iterations):\n",
    "    results = []\n",
    "\n",
    "\n",
    "    dictionary = Dictionary(tokenized_text) # get the vocabulary\n",
    "\n",
    "    corpus = [dictionary.doc2bow(text) for text in tokenized_text]\n",
    "\n",
    "    PATH_TO_MALLET = '/Users/rosalucassen/Documents/UU/DataMining/mallet-2.0.8/bin/mallet'\n",
    "    N_TOPICS = n_topics\n",
    "    N_ITERATIONS = n_iterations\n",
    "\n",
    "    lda = LdaMallet(PATH_TO_MALLET,\n",
    "                    corpus=corpus,\n",
    "                    id2word=dictionary,\n",
    "                    num_topics=N_TOPICS,\n",
    "                    iterations=N_ITERATIONS)\n",
    "\n",
    "    for topic in range(N_TOPICS):\n",
    "        words = lda.show_topic(topic, 10)\n",
    "        topic_n_words = ' '.join([word[0] for word in words])\n",
    "        result = {'Topic':str(topic), \n",
    "                    'Words':topic_n_words}\n",
    "        results.append(result)\n",
    "    results_df = pd.DataFrame(results)\n",
    "    pd.set_option('display.max_colwidth', None)\n",
    "    return results_df, lda, dictionary"
   ]
  },
  {
   "cell_type": "code",
   "execution_count": 41,
   "metadata": {},
   "outputs": [],
   "source": [
    "def topic_modelling_results(tokenized_text, n_topics, n_iterations):\n",
    "    results = []\n",
    "\n",
    "    dictionary = Dictionary(tokenized_text) # get the vocabulary\n",
    "    corpus = [dictionary.doc2bow(text) for text in tokenized_text]\n",
    "\n",
    "    PATH_TO_MALLET = '/Users/rosalucassen/Documents/UU/DataMining/mallet-2.0.8/bin/mallet'\n",
    "    N_TOPICS = n_topics\n",
    "    N_ITERATIONS = n_iterations\n",
    "\n",
    "    lda = LdaMallet(PATH_TO_MALLET,\n",
    "                    corpus=corpus,\n",
    "                    id2word=dictionary,\n",
    "                    num_topics=N_TOPICS,\n",
    "                    iterations=N_ITERATIONS)\n",
    "    \n",
    "    for topic in range(N_TOPICS):\n",
    "        words = lda.show_topic(topic)\n",
    "        topic_n_words = ' '.join([word[0] for word in words])\n",
    "        result = {'Topic':str(topic), \n",
    "                    'Words':topic_n_words}\n",
    "        results.append(result)\n",
    "    results_DF = pd.DataFrame(results)\n",
    "    pd.set_option('display.max_colwidth', None)\n",
    "    return results_DF, lda, dictionary"
   ]
  },
  {
   "cell_type": "markdown",
   "metadata": {},
   "source": [
    "## Exploring the data"
   ]
  },
  {
   "cell_type": "markdown",
   "metadata": {},
   "source": [
    "#### Training data"
   ]
  },
  {
   "cell_type": "code",
   "execution_count": null,
   "metadata": {},
   "outputs": [],
   "source": [
    "d_train.info()"
   ]
  },
  {
   "cell_type": "code",
   "execution_count": null,
   "metadata": {},
   "outputs": [],
   "source": [
    "d_train.head()"
   ]
  },
  {
   "cell_type": "code",
   "execution_count": null,
   "metadata": {
    "scrolled": false
   },
   "outputs": [],
   "source": [
    "d_train[\"label\"].unique()"
   ]
  },
  {
   "cell_type": "code",
   "execution_count": null,
   "metadata": {},
   "outputs": [],
   "source": [
    "grouped_train = d_train.groupby('label').count() \n",
    "grouped_train.head()"
   ]
  },
  {
   "cell_type": "markdown",
   "metadata": {},
   "source": [
    "#### Validation data"
   ]
  },
  {
   "cell_type": "code",
   "execution_count": null,
   "metadata": {},
   "outputs": [],
   "source": [
    "d_val.info()"
   ]
  },
  {
   "cell_type": "code",
   "execution_count": null,
   "metadata": {},
   "outputs": [],
   "source": [
    "d_val.head()"
   ]
  },
  {
   "cell_type": "code",
   "execution_count": null,
   "metadata": {},
   "outputs": [],
   "source": [
    "d_val[\"label\"].unique()"
   ]
  },
  {
   "cell_type": "code",
   "execution_count": null,
   "metadata": {},
   "outputs": [],
   "source": [
    "grouped_val = d_val.groupby('label').count() \n",
    "grouped_val.head()"
   ]
  },
  {
   "cell_type": "markdown",
   "metadata": {},
   "source": [
    "### Test data"
   ]
  },
  {
   "cell_type": "code",
   "execution_count": null,
   "metadata": {},
   "outputs": [],
   "source": [
    "d_test.info()"
   ]
  },
  {
   "cell_type": "code",
   "execution_count": null,
   "metadata": {
    "scrolled": true
   },
   "outputs": [],
   "source": [
    "d_test.head()"
   ]
  },
  {
   "cell_type": "code",
   "execution_count": null,
   "metadata": {},
   "outputs": [],
   "source": [
    "d_test_labeled.info()"
   ]
  },
  {
   "cell_type": "code",
   "execution_count": null,
   "metadata": {},
   "outputs": [],
   "source": [
    "d_test_labeled.head()"
   ]
  },
  {
   "cell_type": "code",
   "execution_count": null,
   "metadata": {},
   "outputs": [],
   "source": [
    "d_test_labeled[\"label\"].unique()"
   ]
  },
  {
   "cell_type": "code",
   "execution_count": null,
   "metadata": {
    "scrolled": false
   },
   "outputs": [],
   "source": [
    "grouped_test = d_test_labeled.groupby('label').count() \n",
    "grouped_test.head()"
   ]
  },
  {
   "cell_type": "markdown",
   "metadata": {},
   "source": [
    "## Combine labelled data"
   ]
  },
  {
   "cell_type": "code",
   "execution_count": 12,
   "metadata": {},
   "outputs": [
    {
     "data": {
      "text/html": [
       "<div>\n",
       "<style scoped>\n",
       "    .dataframe tbody tr th:only-of-type {\n",
       "        vertical-align: middle;\n",
       "    }\n",
       "\n",
       "    .dataframe tbody tr th {\n",
       "        vertical-align: top;\n",
       "    }\n",
       "\n",
       "    .dataframe thead th {\n",
       "        text-align: right;\n",
       "    }\n",
       "</style>\n",
       "<table border=\"1\" class=\"dataframe\">\n",
       "  <thead>\n",
       "    <tr style=\"text-align: right;\">\n",
       "      <th></th>\n",
       "      <th>id</th>\n",
       "      <th>tweet</th>\n",
       "      <th>label</th>\n",
       "    </tr>\n",
       "  </thead>\n",
       "  <tbody>\n",
       "    <tr>\n",
       "      <th>0</th>\n",
       "      <td>1</td>\n",
       "      <td>The CDC currently reports 99031 deaths. In gen...</td>\n",
       "      <td>real</td>\n",
       "    </tr>\n",
       "    <tr>\n",
       "      <th>1</th>\n",
       "      <td>2</td>\n",
       "      <td>States reported 1121 deaths a small rise from ...</td>\n",
       "      <td>real</td>\n",
       "    </tr>\n",
       "    <tr>\n",
       "      <th>2</th>\n",
       "      <td>3</td>\n",
       "      <td>Politically Correct Woman (Almost) Uses Pandem...</td>\n",
       "      <td>fake</td>\n",
       "    </tr>\n",
       "    <tr>\n",
       "      <th>3</th>\n",
       "      <td>4</td>\n",
       "      <td>#IndiaFightsCorona: We have 1524 #COVID testin...</td>\n",
       "      <td>real</td>\n",
       "    </tr>\n",
       "    <tr>\n",
       "      <th>4</th>\n",
       "      <td>5</td>\n",
       "      <td>Populous states can generate large case counts...</td>\n",
       "      <td>real</td>\n",
       "    </tr>\n",
       "  </tbody>\n",
       "</table>\n",
       "</div>"
      ],
      "text/plain": [
       "   id                                              tweet label\n",
       "0   1  The CDC currently reports 99031 deaths. In gen...  real\n",
       "1   2  States reported 1121 deaths a small rise from ...  real\n",
       "2   3  Politically Correct Woman (Almost) Uses Pandem...  fake\n",
       "3   4  #IndiaFightsCorona: We have 1524 #COVID testin...  real\n",
       "4   5  Populous states can generate large case counts...  real"
      ]
     },
     "execution_count": 12,
     "metadata": {},
     "output_type": "execute_result"
    }
   ],
   "source": [
    "data_train = pd.concat([d_train, d_test_labeled, d_val])\n",
    "data_train.head()"
   ]
  },
  {
   "cell_type": "code",
   "execution_count": 13,
   "metadata": {},
   "outputs": [
    {
     "name": "stdout",
     "output_type": "stream",
     "text": [
      "<class 'pandas.core.frame.DataFrame'>\n",
      "Int64Index: 10700 entries, 0 to 2139\n",
      "Data columns (total 3 columns):\n",
      " #   Column  Non-Null Count  Dtype \n",
      "---  ------  --------------  ----- \n",
      " 0   id      10700 non-null  int64 \n",
      " 1   tweet   10700 non-null  object\n",
      " 2   label   10700 non-null  object\n",
      "dtypes: int64(1), object(2)\n",
      "memory usage: 334.4+ KB\n"
     ]
    }
   ],
   "source": [
    "data_train.info()"
   ]
  },
  {
   "cell_type": "code",
   "execution_count": 14,
   "metadata": {},
   "outputs": [
    {
     "data": {
      "text/html": [
       "<div>\n",
       "<style scoped>\n",
       "    .dataframe tbody tr th:only-of-type {\n",
       "        vertical-align: middle;\n",
       "    }\n",
       "\n",
       "    .dataframe tbody tr th {\n",
       "        vertical-align: top;\n",
       "    }\n",
       "\n",
       "    .dataframe thead th {\n",
       "        text-align: right;\n",
       "    }\n",
       "</style>\n",
       "<table border=\"1\" class=\"dataframe\">\n",
       "  <thead>\n",
       "    <tr style=\"text-align: right;\">\n",
       "      <th></th>\n",
       "      <th>id</th>\n",
       "      <th>tweet</th>\n",
       "    </tr>\n",
       "    <tr>\n",
       "      <th>label</th>\n",
       "      <th></th>\n",
       "      <th></th>\n",
       "    </tr>\n",
       "  </thead>\n",
       "  <tbody>\n",
       "    <tr>\n",
       "      <th>fake</th>\n",
       "      <td>5100</td>\n",
       "      <td>5100</td>\n",
       "    </tr>\n",
       "    <tr>\n",
       "      <th>real</th>\n",
       "      <td>5600</td>\n",
       "      <td>5600</td>\n",
       "    </tr>\n",
       "  </tbody>\n",
       "</table>\n",
       "</div>"
      ],
      "text/plain": [
       "         id  tweet\n",
       "label             \n",
       "fake   5100   5100\n",
       "real   5600   5600"
      ]
     },
     "execution_count": 14,
     "metadata": {},
     "output_type": "execute_result"
    }
   ],
   "source": [
    "grouped_train = data_train.groupby('label').count() \n",
    "grouped_train.head()"
   ]
  },
  {
   "cell_type": "code",
   "execution_count": null,
   "metadata": {},
   "outputs": [],
   "source": []
  },
  {
   "cell_type": "markdown",
   "metadata": {},
   "source": [
    "## Results: Pre-processing (before manually removing COVID-19 stopwords)"
   ]
  },
  {
   "cell_type": "code",
   "execution_count": 19,
   "metadata": {
    "scrolled": true
   },
   "outputs": [
    {
     "name": "stdout",
     "output_type": "stream",
     "text": [
      "[('coronavirus', 2129), ('covid-19', 1601), ('say', 575), ('claim', 521), ('people', 507), ('virus', 441), ('vaccine', 405), ('trump', 390), ('covid19', 372), ('pandemic', 368), ('case', 368), ('new', 366), ('test', 351), ('video', 327), ('india', 327), ('hospital', 319), ('covid', 300), ('death', 289), ('president', 277), ('show', 276)]\n",
      "[('case', 2963), ('covid19', 2216), ('test', 1811), ('report', 1481), ('new', 1463), ('state', 1371), ('covid-19', 1146), ('number', 1057), ('death', 1044), ('total', 878), ('people', 783), ('confirm', 731), ('amp', 705), ('day', 693), ('today', 641), ('testing', 605), ('update', 577), ('coronavirus', 575), ('indiafightscorona', 546), ('india', 501)]\n"
     ]
    }
   ],
   "source": [
    "corpus_train_fake = data_train[data_train.label == \"fake\"][\"tweet\"]\n",
    "corpus_train_real = data_train[data_train.label == \"real\"][\"tweet\"]\n",
    "word_count_fake, output_fake, flat_fake, tokenized_texts_fake = pre_processer_fake(corpus_train_fake)\n",
    "print(output_fake[:20])\n",
    "word_count_real, output_real, flat_real, tokenized_texts_real = pre_processer_real(corpus_train_real)\n",
    "print(output_real[:20])"
   ]
  },
  {
   "cell_type": "code",
   "execution_count": 33,
   "metadata": {},
   "outputs": [
    {
     "data": {
      "image/png": "[encoded data removed]",
      "text/plain": [
       "<Figure size 432x288 with 1 Axes>"
      ]
     },
     "metadata": {
      "needs_background": "light"
     },
     "output_type": "display_data"
    },
    {
     "data": {
      "text/plain": [
       "<AxesSubplot:title={'center':'Frequency distribution fake news'}, xlabel='Samples', ylabel='Counts'>"
      ]
     },
     "execution_count": 33,
     "metadata": {},
     "output_type": "execute_result"
    }
   ],
   "source": [
    "import nltk\n",
    "from nltk import FreqDist\n",
    "fdist_filtered = FreqDist(word_count_fake)\n",
    "fdist_filtered.plot(70,title='Frequency distribution fake news')"
   ]
  },
  {
   "cell_type": "code",
   "execution_count": 34,
   "metadata": {},
   "outputs": [
    {
     "data": {
      "image/png": "[encoded data removed]",
      "text/plain": [
       "<Figure size 432x288 with 1 Axes>"
      ]
     },
     "metadata": {
      "needs_background": "light"
     },
     "output_type": "display_data"
    },
    {
     "data": {
      "text/plain": [
       "<AxesSubplot:title={'center':'Frequency distribution fake news'}, xlabel='Samples', ylabel='Counts'>"
      ]
     },
     "execution_count": 34,
     "metadata": {},
     "output_type": "execute_result"
    }
   ],
   "source": [
    "fdist_filtered = FreqDist(word_count_real)\n",
    "fdist_filtered.plot(70,title='Frequency distribution fake news')"
   ]
  },
  {
   "cell_type": "markdown",
   "metadata": {},
   "source": [
    "So, lets try removing \"coronavirus\", \"covid-19\" and \"covid19\".\n",
    "\n",
    "The fake news dataset had: \n",
    "- 2129x \"coronavirus\" \n",
    "- 1601x \"covid-19\"\n",
    "- 372x \"covid19\"\n",
    "\n",
    "The real news dataset had:\n",
    "- 2963x \"case\"\n",
    "- 2216x \"covid19\"\n",
    "- 1811x \"case\"\n",
    "- 1481x \"report\"\n",
    "- 1463x \"new\"\n",
    "- 1371x \"state\"\n",
    "- 1146x \"covid-19\"\n",
    "- 575x \"coronavirus\""
   ]
  },
  {
   "cell_type": "code",
   "execution_count": null,
   "metadata": {},
   "outputs": [],
   "source": [
    "tokenized_texts_real"
   ]
  },
  {
   "cell_type": "markdown",
   "metadata": {},
   "source": [
    "## Results: Pre-processing (after manually removing COVID-19 stopwords)"
   ]
  },
  {
   "cell_type": "code",
   "execution_count": 39,
   "metadata": {},
   "outputs": [],
   "source": [
    "def remove_covid(text):\n",
    "    resultwords  = [word for word in text if word not in stop_words]\n",
    "    result = ''.join(resultwords)\n",
    "    return resultwords\n",
    "\n",
    "nlp.vocab[\"covid\"].is_stop = True\n",
    "nlp.vocab[\"corona\"].is_stop = True\n",
    "nlp.vocab[\"covid19\"].is_stop = True\n",
    "nlp.vocab[\"covid-19\"].is_stop = True\n",
    "nlp.vocab[\"corona\"].is_stop = True\n",
    "nlp.vocab[\"coronavirus\"].is_stop = True\n",
    "\n",
    "def pre_processer_real_c(corpus):\n",
    "    corpus = [text.lower() for text in corpus]\n",
    "    corpus = [remove_urls(text) for text in corpus]\n",
    "    corpus = [remove_single_char(text) for text in corpus]\n",
    "    corpus = [remove_numbers(text) for text in corpus]\n",
    "    corpus = [remove_rt(text) for text in corpus]\n",
    "    corpus = [remove_emojis(text) for text in corpus]\n",
    "    corpus = [remove_nonalpha(text) for text in corpus]\n",
    "    corpus = [text.encode(\"ascii\", \"ignore\") for text in corpus]\n",
    "    corpus = [text.decode() for text in corpus]\n",
    "    corpus = [remove_extra_spaces(text) for text in corpus]\n",
    "    corpus = strip_list_noempty(corpus)\n",
    "    \n",
    "    processed_texts = [text for text in nlp.pipe(corpus, \n",
    "                                              disable=[\"ner\",\n",
    "                                                       \"parser\"])]\n",
    "    \n",
    "    tokenized_texts = [[word.lemma_ for word in lemma_ if not word.is_punct if not word.is_stop] \n",
    "                            for lemma_ in processed_texts]\n",
    "\n",
    "    tokenized_texts = make_n_grams(tokenized_texts)\n",
    "    \n",
    "\n",
    "    #tokenized_texts = filter(lambda text: [text.strip() for text in tokenized_texts], tokenized_texts) \n",
    "    flatten = lambda t: [item for sublist in t for item in sublist]\n",
    "    flat_real = flatten(tokenized_texts)\n",
    "    counts = Counter(flat_real)\n",
    "    total_words = sum(counts.values()) \n",
    "    for word in counts:\n",
    "        counts[word] = counts[word] #* (10000) / total_words\n",
    "    return counts.most_common(), flat_real, tokenized_texts\n",
    "\n",
    "def pre_processer_fake_c(corpus):\n",
    "    corpus = [text.lower() for text in corpus]\n",
    "    corpus = [remove_urls(text) for text in corpus]\n",
    "    corpus = [remove_single_char(text) for text in corpus]\n",
    "    corpus = [remove_numbers(text) for text in corpus]\n",
    "    corpus = [remove_rt(text) for text in corpus]\n",
    "    corpus = [remove_emojis(text) for text in corpus]\n",
    "    corpus = [remove_nonalpha(text) for text in corpus]\n",
    "    corpus = [text.encode(\"ascii\", \"ignore\") for text in corpus]\n",
    "    corpus = [text.decode() for text in corpus]\n",
    "    corpus = [remove_extra_spaces(text) for text in corpus]\n",
    "    corpus = strip_list_noempty(corpus)\n",
    "\n",
    "    processed_texts = [text for text in nlp.pipe(corpus, \n",
    "                                              disable=[\"ner\",\n",
    "                                                       \"parser\"])]\n",
    "    tokenized_texts = [[word.lemma_ for word in lemma_ if not word.is_punct if not word.is_stop] \n",
    "                            for lemma_ in processed_texts]\n",
    "    tokenized_texts = make_n_grams(tokenized_texts)\n",
    "    \n",
    "    flatten = lambda t: [item for sublist in t for item in sublist]\n",
    "    flat_fake = flatten(tokenized_texts)\n",
    "    counts = Counter(flat_fake)\n",
    "    total_words = sum(counts.values()) \n",
    "    for word in counts:\n",
    "        counts[word] = counts[word] #* (10000) / total_words\n",
    "    return counts.most_common(), flat_fake, tokenized_texts"
   ]
  },
  {
   "cell_type": "code",
   "execution_count": 40,
   "metadata": {},
   "outputs": [
    {
     "name": "stdout",
     "output_type": "stream",
     "text": [
      "[('say', 575), ('claim', 521), ('people', 507), ('virus', 441), ('vaccine', 405), ('trump', 390), ('pandemic', 368), ('case', 368), ('new', 366), ('test', 351), ('video', 327), ('india', 327), ('hospital', 319), ('death', 289), ('president', 277), ('show', 276), ('die', 271), ('cure', 266), ('lockdown', 250), ('patient', 238)]\n",
      "[('case', 2963), ('test', 1811), ('report', 1481), ('new', 1463), ('state', 1371), ('number', 1057), ('death', 1044), ('total', 878), ('people', 783), ('confirm', 731), ('amp', 705), ('day', 693), ('today', 641), ('testing', 605), ('update', 577), ('indiafightscorona', 546), ('india', 501), ('health', 477), ('high', 459), ('k', 403)]\n"
     ]
    }
   ],
   "source": [
    "corpus_train_fake = data_train[data_train.label == \"fake\"][\"tweet\"]\n",
    "corpus_train_real = data_train[data_train.label == \"real\"][\"tweet\"]\n",
    "output_fake, flat_fake, tokenized_texts_fake = pre_processer_fake_c(corpus_train_fake)\n",
    "print(output_fake[:20])\n",
    "output_real, flat_real, tokenized_texts_real = pre_processer_real_c(corpus_train_real)\n",
    "print(output_real[:20])"
   ]
  },
  {
   "cell_type": "markdown",
   "metadata": {},
   "source": [
    "## Results: Topic modelling LDA Gensim"
   ]
  },
  {
   "cell_type": "markdown",
   "metadata": {},
   "source": [
    "#### Fake news"
   ]
  },
  {
   "cell_type": "code",
   "execution_count": null,
   "metadata": {},
   "outputs": [],
   "source": [
    "topics, lda_fake, dictionary = topic_modelling_results(tokenized_texts_fake, 5, 400)\n",
    "topics"
   ]
  },
  {
   "cell_type": "code",
   "execution_count": null,
   "metadata": {},
   "outputs": [],
   "source": [
    "# Compute Coherence Score using c_v\n",
    "coherence_model_lda = CoherenceModel(model=lda_fake, texts=tokenized_texts_fake, dictionary=dictionary, coherence='c_v')\n",
    "coherence_lda = coherence_model_lda.get_coherence()\n",
    "print('\\nCoherence Score: ', coherence_lda)"
   ]
  },
  {
   "cell_type": "markdown",
   "metadata": {},
   "source": [
    "- Two topics:     c_v = 0.535\n",
    "- Three topics:   c_v = 0.4999\n",
    "- Four topics:    c_v = 0.440\n",
    "- Five topics :   c_v = 0.4562\n",
    "- Six topics:     c_v = 0.387\n",
    "- Seven topics:   c_v = 0.367\n",
    "- Eight topics:   c_v = 0.406\n",
    "- Nine topics:    c_v = 0.4006\n",
    "\n",
    "- Ten topics:     c_v = 0.4048\n",
    "- Eleven topics:  c_v = 0.3759\n",
    "- Twelve topics:  c_v = 0.372\n",
    "- Thirteen topics:c_v = 0.3959\n",
    "- Fourteen topics:c_v = 0.3869\n",
    "- Fifteen topics: c_v = 0.3956\n",
    "\n",
    "- Twenty topics:  c_v = 0.4009\n",
    "- Fourty topics:  c_v = 0.41147\n",
    "- Fifty topics:   c_v = 0.4391\n",
    "- Sixty topics:   c_v = 0.4329\n",
    "- Seventy topics: c_v = 0.443\n",
    "- Eighty topics:  c_v = 0.4402"
   ]
  },
  {
   "cell_type": "markdown",
   "metadata": {},
   "source": [
    "###### Loop over documents to get topic distribution"
   ]
  },
  {
   "cell_type": "code",
   "execution_count": null,
   "metadata": {},
   "outputs": [],
   "source": [
    "transformed_docs = lda_fake.load_document_topics()"
   ]
  },
  {
   "cell_type": "code",
   "execution_count": null,
   "metadata": {},
   "outputs": [],
   "source": [
    "for i, document in enumerate(transformed_docs):\n",
    "    print('Topic distributions for document {}'.format(i))\n",
    "    for topic in document:\n",
    "        print(topic)"
   ]
  },
  {
   "cell_type": "code",
   "execution_count": null,
   "metadata": {},
   "outputs": [],
   "source": [
    "transformed_docs = lda_fake.load_document_topics()\n",
    "topic_distributions_fake = pd.DataFrame([[x[1] for x in doc] for doc in transformed_docs], \n",
    "             columns=['topic_{}'.format(i) for i in range(8)])\n",
    "topic_distributions_fake.tail()\n",
    "topic_distributions_fake.mean().sort_values(ascending=False)"
   ]
  },
  {
   "cell_type": "markdown",
   "metadata": {},
   "source": [
    "#### Real news"
   ]
  },
  {
   "cell_type": "code",
   "execution_count": null,
   "metadata": {
    "scrolled": true
   },
   "outputs": [],
   "source": [
    "topics_real, lda_real, dictionary = topic_modelling_results(tokenized_texts_real, 20, 400)\n",
    "topics_real"
   ]
  },
  {
   "cell_type": "code",
   "execution_count": null,
   "metadata": {},
   "outputs": [],
   "source": [
    "# Compute Coherence Score using c_v\n",
    "coherence_model_lda = CoherenceModel(model=lda_real, texts=tokenized_texts_real, dictionary=dictionary, coherence='c_v')\n",
    "coherence_lda = coherence_model_lda.get_coherence()\n",
    "print('\\nCoherence Score: ', coherence_lda)"
   ]
  },
  {
   "cell_type": "markdown",
   "metadata": {},
   "source": [
    "###### Loop over documents to get topic distribution"
   ]
  },
  {
   "cell_type": "code",
   "execution_count": null,
   "metadata": {},
   "outputs": [],
   "source": [
    "transformed_docs = lda_real.load_document_topics()\n",
    "for i, document in enumerate(transformed_docs):\n",
    "    print('Topic distributions for document {}'.format(i))\n",
    "    for topic in document:\n",
    "        print(topic)"
   ]
  },
  {
   "cell_type": "code",
   "execution_count": null,
   "metadata": {},
   "outputs": [],
   "source": [
    "transformed_docs = lda_real.load_document_topics()\n",
    "topic_distributions_real = pd.DataFrame([[x[1] for x in doc] for doc in transformed_docs], \n",
    "             columns=['topic_{}'.format(i) for i in range(20)])\n",
    "topic_distributions_real.tail()\n",
    "#topic_distributions.mean().sort_values(ascending=False)"
   ]
  },
  {
   "cell_type": "markdown",
   "metadata": {},
   "source": [
    "## Find optimal number of topics method 1"
   ]
  },
  {
   "cell_type": "code",
   "execution_count": null,
   "metadata": {},
   "outputs": [],
   "source": [
    "def compute_coherence_values(texts, start, step, limit):\n",
    "    dictionary = Dictionary(texts) # get the vocabulary\n",
    "    dictionary.filter_extremes(no_below=5, no_above=0.5)\n",
    "    corpus = [dictionary.doc2bow(text) for text in texts]\n",
    "\n",
    "    PATH_TO_MALLET = '/Users/rosalucassen/Documents/UU/DataMining/mallet-2.0.8/bin/mallet'\n",
    "    \n",
    "    coherence_values = []\n",
    "    model_list = []\n",
    "    for num_topics in range(start, limit, step):\n",
    "        model = gensim.models.wrappers.LdaMallet(PATH_TO_MALLET, corpus=corpus, num_topics=num_topics, id2word=dictionary, alpha=0.05)\n",
    "        model_list.append(model)\n",
    "        coherencemodel = CoherenceModel(model=model, texts=texts, dictionary=dictionary, coherence='c_v')\n",
    "        coherence_values.append(coherencemodel.get_coherence())\n",
    "\n",
    "    return model_list, coherence_values"
   ]
  },
  {
   "cell_type": "code",
   "execution_count": null,
   "metadata": {},
   "outputs": [],
   "source": [
    "#Using the c_v measure\n",
    "model_list, coherence_values = compute_coherence_values(texts=tokenized_texts_fake, start=8, step=1, limit=14)"
   ]
  },
  {
   "cell_type": "code",
   "execution_count": null,
   "metadata": {
    "scrolled": true
   },
   "outputs": [],
   "source": [
    "#Using the c_v measure\n",
    "#model_list, coherence_values = compute_coherence_values(texts=tokenized_texts_fake, start=2, limit=40, step=6)\n",
    "# Show graph\n",
    "import matplotlib.pyplot as plt\n",
    "limit=14; start=8; step=1;\n",
    "x = range(start, limit, step)\n",
    "plt.plot(x, coherence_values)\n",
    "plt.xlabel(\"Num Topics\")\n",
    "plt.ylabel(\"Coherence score\")\n",
    "plt.legend((\"coherence_values\"), loc='best')\n",
    "plt.show()"
   ]
  },
  {
   "cell_type": "code",
   "execution_count": null,
   "metadata": {},
   "outputs": [],
   "source": [
    "#Using the c_v measure\n",
    "model_list, coherence_values = compute_coherence_values(texts=tokenized_texts_real, start=1, step=1, limit=35)"
   ]
  },
  {
   "cell_type": "code",
   "execution_count": null,
   "metadata": {},
   "outputs": [],
   "source": [
    "# Show graph\n",
    "import matplotlib.pyplot as plt\n",
    "limit=35; start=1; step=1;\n",
    "x = range(start, limit, step)\n",
    "plt.plot(x, coherence_values)\n",
    "plt.xlabel(\"Num Topics\")\n",
    "plt.ylabel(\"Coherence score\")\n",
    "plt.legend((\"coherence_values\"), loc='best')\n",
    "plt.show()"
   ]
  },
  {
   "cell_type": "markdown",
   "metadata": {},
   "source": [
    "## Find optimal number of topics method 2"
   ]
  },
  {
   "cell_type": "markdown",
   "metadata": {},
   "source": [
    "This methods takes a very long time, but will also give alpha and beta values"
   ]
  },
  {
   "cell_type": "code",
   "execution_count": null,
   "metadata": {},
   "outputs": [],
   "source": [
    "def compute_coherence_values(corpus, dictionary, k, a, b):\n",
    "    lda_model = gensim.models.LdaMulticore(corpus=corpus, id2word=dictionary, num_topics=k, alpha = a, eta = b)\n",
    "    \n",
    "    coherence_model_lda = CoherenceModel(model=lda_model, texts=tokenized_texts_fake, dictionary=dictionary, coherence='c_v')\n",
    "    \n",
    "    return coherence_model_lda.get_coherence()\n",
    "    "
   ]
  },
  {
   "cell_type": "code",
   "execution_count": null,
   "metadata": {},
   "outputs": [],
   "source": [
    "import numpy as np\n",
    "import tqdm\n",
    "grid = {}\n",
    "\n",
    "dictionary = Dictionary(tokenized_texts_real) # get the vocabulary\n",
    "dictionary.filter_extremes(no_below=5, no_above=0.5)\n",
    "corpus = [dictionary.doc2bow(text) for text in tokenized_texts_real]\n",
    "PATH_TO_MALLET = '/Users/rosalucassen/Documents/UU/DataMining/mallet-2.0.8/bin/mallet'\n",
    "\n",
    "#grid['Validation_Set'] = {}\n",
    "# Topics range\n",
    "min_topics = 5\n",
    "max_topics = 40\n",
    "step_size = 1\n",
    "topics_range = range(min_topics, max_topics, step_size)\n",
    "# Alpha parameter\n",
    "alpha = list(np.arange(0.01, 1, 0.3))\n",
    "alpha.append('symmetric')\n",
    "alpha.append('asymmetric')\n",
    "# Beta parameter\n",
    "beta = list(np.arange(0.01, 1, 0.3))\n",
    "beta.append('symmetric')\n",
    "# Validation sets\n",
    "#corpus = [dictionary.doc2bow(text) for text in tokenized_texts_real]\n",
    "num_of_docs = len(corpus)\n",
    "#corpus_sets = [# gensim.utils.ClippedCorpus(corpus, num_of_docs*0.25), \n",
    "               # gensim.utils.ClippedCorpus(corpus, num_of_docs*0.5), \n",
    "               #gensim.utils.ClippedCorpus(corpus, int(num_of_docs*0.75)), \n",
    "               #corpus]\n",
    "#corpus_title = ['75% Corpus', '100% Corpus']\n",
    "model_results = {#'Validation_Set': [],\n",
    "                 'Topics': [],\n",
    "                 'Alpha': [],\n",
    "                 'Beta': [],\n",
    "                 'Coherence': []\n",
    "                }\n",
    "# Can take a long time to run\n",
    "if 1 == 1:\n",
    "    pbar = tqdm.tqdm(total=270)\n",
    "    \n",
    "    # iterate through validation corpuses\n",
    "    #for i in range(len(corpus_sets)):\n",
    "        # iterate through number of topics\n",
    "    for k in topics_range:\n",
    "        # iterate through alpha values\n",
    "        for a in alpha:\n",
    "            # iterare through beta values\n",
    "            for b in beta:\n",
    "                # get the coherence score for the given parameters\n",
    "                cv = compute_coherence_values(corpus=corpus, dictionary=dictionary, k=k, a=a, b=b)\n",
    "                # Save the model results\n",
    "                #model_results['Validation_Set'].append(corpus_title[i])\n",
    "                model_results['Topics'].append(k)\n",
    "                model_results['Alpha'].append(a)\n",
    "                model_results['Beta'].append(b)\n",
    "                model_results['Coherence'].append(cv)\n",
    "                    \n",
    "                pbar.update(1)\n",
    "    pd.DataFrame(model_results).to_csv('lda_tuning_results_real.csv', index=False)\n",
    "    pbar.close()"
   ]
  },
  {
   "cell_type": "markdown",
   "metadata": {},
   "source": [
    "## Results: Most distinctive words\n",
    "This gives an extreme output, why?"
   ]
  },
  {
   "cell_type": "code",
   "execution_count": null,
   "metadata": {},
   "outputs": [],
   "source": [
    "results_df = distinctive_words(flat_real, flat_fake)\n",
    "results_df.sort_values('llr', ascending=False).head(5)"
   ]
  },
  {
   "cell_type": "markdown",
   "metadata": {},
   "source": [
    "## Hierarchical Dirichlet Process"
   ]
  },
  {
   "cell_type": "markdown",
   "metadata": {},
   "source": [
    "#### fake news"
   ]
  },
  {
   "cell_type": "code",
   "execution_count": 35,
   "metadata": {},
   "outputs": [],
   "source": [
    "from gensim.models import CoherenceModel, HdpModel"
   ]
  },
  {
   "cell_type": "code",
   "execution_count": 42,
   "metadata": {},
   "outputs": [],
   "source": [
    "dictionary = Dictionary(tokenized_texts_fake) # get the vocabulary\n",
    "dictionary.filter_extremes(no_below=5, no_above=0.5)\n",
    "corpus = [dictionary.doc2bow(text) for text in tokenized_texts_fake]\n",
    "PATH_TO_MALLET = '/Users/rosalucassen/Documents/UU/DataMining/mallet-2.0.8/bin/mallet'\n",
    "\n",
    "hdpmodel = HdpModel(corpus=corpus, id2word=dictionary)"
   ]
  },
  {
   "cell_type": "code",
   "execution_count": 44,
   "metadata": {},
   "outputs": [
    {
     "data": {
      "text/plain": [
       "(0,\n",
       " [('hospital', 0.004101607063696334),\n",
       "  ('claim', 0.00397577276710605),\n",
       "  ('video', 0.003813447157745115),\n",
       "  ('show', 0.003780919193635137),\n",
       "  ('doctor', 0.003559757797362758),\n",
       "  ('say', 0.003510619624269044),\n",
       "  ('india', 0.002613157635883363),\n",
       "  ('africans', 0.002555618697675103),\n",
       "  ('vaccine', 0.0025533578575917515),\n",
       "  ('body', 0.002525501698519641),\n",
       "  ('share', 0.002509270062748111),\n",
       "  ('death', 0.002453676901144012),\n",
       "  ('post', 0.00243368487994355),\n",
       "  ('case', 0.002381125116035661),\n",
       "  ('people', 0.002327248488675898),\n",
       "  ('civil', 0.0022353801428300567),\n",
       "  ('patient', 0.002214209933909566),\n",
       "  ('facebook', 0.002179265506941104),\n",
       "  ('individual', 0.002167101794457452),\n",
       "  ('create_chinese', 0.0021595064199447195)])"
      ]
     },
     "execution_count": 44,
     "metadata": {},
     "output_type": "execute_result"
    }
   ],
   "source": [
    "hdptopics = hdpmodel.show_topics(formatted=False)\n",
    "hdptopics[0]\n"
   ]
  },
  {
   "cell_type": "code",
   "execution_count": 45,
   "metadata": {},
   "outputs": [
    {
     "data": {
      "text/plain": [
       "20"
      ]
     },
     "execution_count": 45,
     "metadata": {},
     "output_type": "execute_result"
    }
   ],
   "source": [
    "len(hdptopics)"
   ]
  },
  {
   "cell_type": "code",
   "execution_count": 46,
   "metadata": {},
   "outputs": [],
   "source": [
    "hdptopics = [[word for word, prob in topic] for topicid, topic in hdptopics]"
   ]
  },
  {
   "cell_type": "code",
   "execution_count": 66,
   "metadata": {},
   "outputs": [],
   "source": [
    "coherence_values = []\n",
    "model_list = []\n",
    "for num_topics in range(1, 40):\n",
    "    coherencemodel = CoherenceModel(topics=hdptopics[:num_topics], \n",
    "                               texts=tokenized_texts_fake, \n",
    "                               dictionary=dictionary, \n",
    "                               window_size=10).get_coherence()\n",
    "    coherence_values.append(coherencemodel)\n",
    "    "
   ]
  },
  {
   "cell_type": "code",
   "execution_count": 67,
   "metadata": {
    "scrolled": true
   },
   "outputs": [
    {
     "data": {
      "text/plain": [
       "[0.45018912197773575,\n",
       " 0.6033743842402689,\n",
       " 0.6498542750443866,\n",
       " 0.6728327335895651,\n",
       " 0.6912056801877144,\n",
       " 0.6969451648550393,\n",
       " 0.703939582799034,\n",
       " 0.7088106966748894,\n",
       " 0.7106493237494583,\n",
       " 0.7133250814688599,\n",
       " 0.7137481289805679,\n",
       " 0.7184510330013766,\n",
       " 0.7213409568989335,\n",
       " 0.7231247275048529,\n",
       " 0.721715254716895,\n",
       " 0.7235907911754452,\n",
       " 0.7248821876394699,\n",
       " 0.726047284267733,\n",
       " 0.7266757943701964,\n",
       " 0.7295566275275025,\n",
       " 0.7295566275275025,\n",
       " 0.7295566275275025,\n",
       " 0.7295566275275025,\n",
       " 0.7295566275275025,\n",
       " 0.7295566275275025,\n",
       " 0.7295566275275025,\n",
       " 0.7295566275275025,\n",
       " 0.7295566275275025,\n",
       " 0.7295566275275025,\n",
       " 0.7295566275275025,\n",
       " 0.7295566275275025,\n",
       " 0.7295566275275025,\n",
       " 0.7295566275275025,\n",
       " 0.7295566275275025,\n",
       " 0.7295566275275025,\n",
       " 0.7295566275275025,\n",
       " 0.7295566275275025,\n",
       " 0.7295566275275025,\n",
       " 0.7295566275275025]"
      ]
     },
     "execution_count": 67,
     "metadata": {},
     "output_type": "execute_result"
    }
   ],
   "source": [
    "coherence_values"
   ]
  },
  {
   "cell_type": "markdown",
   "metadata": {},
   "source": [
    "#### Real news"
   ]
  },
  {
   "cell_type": "code",
   "execution_count": 68,
   "metadata": {},
   "outputs": [],
   "source": [
    "dictionary = Dictionary(tokenized_texts_real) # get the vocabulary\n",
    "dictionary.filter_extremes(no_below=5, no_above=0.5)\n",
    "corpus = [dictionary.doc2bow(text) for text in tokenized_texts_real]\n",
    "PATH_TO_MALLET = '/Users/rosalucassen/Documents/UU/DataMining/mallet-2.0.8/bin/mallet'\n",
    "\n",
    "hdpmodel = HdpModel(corpus=corpus, id2word=dictionary)"
   ]
  },
  {
   "cell_type": "code",
   "execution_count": 69,
   "metadata": {},
   "outputs": [
    {
     "data": {
      "text/plain": [
       "(0,\n",
       " [('case', 0.01789584001762516),\n",
       "  ('number', 0.009613975028788965),\n",
       "  ('new', 0.008905909361318522),\n",
       "  ('report', 0.007884632977899361),\n",
       "  ('total', 0.007111767966037592),\n",
       "  ('test', 0.006915425204541898),\n",
       "  ('confirm', 0.00516842158457502),\n",
       "  ('confirm_case', 0.004365506673830343),\n",
       "  ('total_number', 0.0038816180623444823),\n",
       "  ('death', 0.003321258988326121),\n",
       "  ('today', 0.003238034526757232),\n",
       "  ('active', 0.0029508895881706332),\n",
       "  ('day', 0.002905026426720725),\n",
       "  ('zealand', 0.002901680875315728),\n",
       "  ('complete', 0.002872961083782554),\n",
       "  ('bring', 0.0027429338487805727),\n",
       "  ('update', 0.002729968730603773),\n",
       "  ('isolation', 0.002726087417681257),\n",
       "  ('high', 0.0025964649473625987),\n",
       "  ('yesterday', 0.0025625083816715162)])"
      ]
     },
     "execution_count": 69,
     "metadata": {},
     "output_type": "execute_result"
    }
   ],
   "source": [
    "hdptopics = hdpmodel.show_topics(formatted=False)\n",
    "hdptopics[0]"
   ]
  },
  {
   "cell_type": "code",
   "execution_count": 70,
   "metadata": {},
   "outputs": [
    {
     "data": {
      "text/plain": [
       "20"
      ]
     },
     "execution_count": 70,
     "metadata": {},
     "output_type": "execute_result"
    }
   ],
   "source": [
    "len(hdptopics)"
   ]
  },
  {
   "cell_type": "code",
   "execution_count": 71,
   "metadata": {},
   "outputs": [],
   "source": [
    "hdptopics = [[word for word, prob in topic] for topicid, topic in hdptopics]"
   ]
  },
  {
   "cell_type": "code",
   "execution_count": 72,
   "metadata": {},
   "outputs": [
    {
     "data": {
      "text/plain": [
       "[0.3120512140870997,\n",
       " 0.40659713449191603,\n",
       " 0.44473545376489515,\n",
       " 0.43121081418559803,\n",
       " 0.4485119900332107,\n",
       " 0.4860673482097429,\n",
       " 0.5094284706257114,\n",
       " 0.5296095599532822,\n",
       " 0.5265394331974858,\n",
       " 0.5346202474588613,\n",
       " 0.52310636968292,\n",
       " 0.5359923710887078,\n",
       " 0.5534784477464169,\n",
       " 0.5633999905489323,\n",
       " 0.5713195015622957,\n",
       " 0.5791751694224722,\n",
       " 0.5845647890106949,\n",
       " 0.5943984581738615,\n",
       " 0.6002423295052222,\n",
       " 0.6036058837431415,\n",
       " 0.6036058837431415,\n",
       " 0.6036058837431415,\n",
       " 0.6036058837431415,\n",
       " 0.6036058837431415,\n",
       " 0.6036058837431415,\n",
       " 0.6036058837431415,\n",
       " 0.6036058837431415,\n",
       " 0.6036058837431415,\n",
       " 0.6036058837431415,\n",
       " 0.6036058837431415,\n",
       " 0.6036058837431415,\n",
       " 0.6036058837431415,\n",
       " 0.6036058837431415,\n",
       " 0.6036058837431415,\n",
       " 0.6036058837431415,\n",
       " 0.6036058837431415,\n",
       " 0.6036058837431415,\n",
       " 0.6036058837431415,\n",
       " 0.6036058837431415]"
      ]
     },
     "execution_count": 72,
     "metadata": {},
     "output_type": "execute_result"
    }
   ],
   "source": [
    "coherence_values = []\n",
    "model_list = []\n",
    "for num_topics in range(1, 40):\n",
    "    coherencemodel = CoherenceModel(topics=hdptopics[:num_topics], \n",
    "                               texts=tokenized_texts_real, \n",
    "                               dictionary=dictionary, \n",
    "                               window_size=10).get_coherence()\n",
    "    coherence_values.append(coherencemodel)\n",
    "coherence_values"
   ]
  },
  {
   "cell_type": "code",
   "execution_count": 48,
   "metadata": {},
   "outputs": [],
   "source": [
    "def evaluate_bar_graph(coherences, indices):\n",
    "    assert len(coherences) == len(indices)\n",
    "    n = len(coherences)\n",
    "    x = np.arange(n)\n",
    "    plt.figure(figsize=(12,12))\n",
    "    plt.bar(x, coherences, width=0.2, tick_label=indices, align='center')\n",
    "    plt.xlabel('Models')\n",
    "    plt.ylabel('Coherence Value')"
   ]
  },
  {
   "cell_type": "code",
   "execution_count": 51,
   "metadata": {},
   "outputs": [
    {
     "data": {
      "image/png": "[encoded data removed]",
      "text/plain": [
       "<Figure size 864x864 with 1 Axes>"
      ]
     },
     "metadata": {
      "needs_background": "light"
     },
     "output_type": "display_data"
    }
   ],
   "source": [
    "import matplotlib.pyplot as plt\n",
    "%matplotlib inline\n",
    "evaluate_bar_graph([hdp_coherence],\n",
    "                   ['HDP'])"
   ]
  },
  {
   "cell_type": "code",
   "execution_count": null,
   "metadata": {},
   "outputs": [],
   "source": []
  }
 ],
 "metadata": {
  "kernelspec": {
   "display_name": "Python 3",
   "language": "python",
   "name": "python3"
  },
  "language_info": {
   "codemirror_mode": {
    "name": "ipython",
    "version": 3
   },
   "file_extension": ".py",
   "mimetype": "text/x-python",
   "name": "python",
   "nbconvert_exporter": "python",
   "pygments_lexer": "ipython3",
   "version": "3.8.3"
  }
 },
 "nbformat": 4,
 "nbformat_minor": 4
}
