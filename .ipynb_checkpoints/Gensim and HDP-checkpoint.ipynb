{
 "cells": [
  {
   "cell_type": "markdown",
   "metadata": {},
   "source": [
    "# Thesis ADS: Rosa Lucassen"
   ]
  },
  {
   "cell_type": "markdown",
   "metadata": {},
   "source": [
    "## Loading the data"
   ]
  },
  {
   "cell_type": "code",
   "execution_count": 151,
   "metadata": {},
   "outputs": [],
   "source": [
    "import pandas as pd\n",
    "import numpy as np\n",
    "import pickle\n",
    "import spacy\n",
    "nlp = spacy.load(\"en_core_web_sm\")\n",
    "import re\n",
    "from collections import Counter\n",
    "import emoji\n",
    "import stop_words\n",
    "from scipy.stats import chi2_contingency\n",
    "from urllib.parse import urlparse\n",
    "from nltk.stem.porter import PorterStemmer\n",
    "from gensim.corpora import Dictionary\n",
    "from gensim.models.wrappers import LdaMallet\n",
    "\n",
    "import numpy as np\n",
    "import logging\n",
    "import pyLDAvis.gensim\n",
    "import json\n",
    "import warnings\n",
    "warnings.filterwarnings('ignore')  # To ignore all warnings that arise here to enhance clarity\n",
    "from gensim.models.coherencemodel import CoherenceModel\n",
    "from gensim.models.ldamodel import LdaModel\n",
    "from gensim.corpora.dictionary import Dictionary\n",
    "from numpy import array\n",
    "\n",
    "import gensim\n",
    "\n",
    "from gensim.models import Phrases\n",
    "\n",
    "stemmer = PorterStemmer()\n",
    "\n",
    "d_test = pd.read_excel(\"/Users/rosalucassen/Desktop/Thesis/Code/Data/Constraint_English_Test2.xlsx\", engine='openpyxl')\n",
    "d_train = pd.read_excel(\"/Users/rosalucassen/Desktop/Thesis/Code/Data/Constraint_English_Train.xlsx\", engine='openpyxl')\n",
    "d_val = pd.read_excel(\"/Users/rosalucassen/Desktop/Thesis/Code/Data/Constraint_English_Val.xlsx\", engine='openpyxl')\n",
    "d_test_labeled = pd.read_excel(\"/Users/rosalucassen/Desktop/Thesis/Code/Data/english_test_with_labels.xlsx\", engine='openpyxl')"
   ]
  },
  {
   "cell_type": "markdown",
   "metadata": {},
   "source": [
    "## Function: Cleaning data"
   ]
  },
  {
   "cell_type": "code",
   "execution_count": 152,
   "metadata": {},
   "outputs": [],
   "source": [
    "def remove_single_char(text):\n",
    "    single_char_pattern = r'\\s+[a-zA-Z]\\s+'\n",
    "    without_sc = re.sub(pattern=single_char_pattern, repl=\" \", string=text)\n",
    "    return without_sc\n",
    "\n",
    "def remove_numbers(text):\n",
    "    number_pattern = r'\\b(?<![0-9-])(\\d+)(?![0-9-])'\n",
    "    without_number = re.sub(pattern=number_pattern, repl=\" \", string=text)\n",
    "    return without_number\n",
    "\n",
    "\n",
    "def remove_urls(text):\n",
    "    url_pattern = r'https?://\\S+|www\\.\\S+'\n",
    "    without_urls = re.sub(pattern=url_pattern, repl=\" \", string=text)\n",
    "    return without_urls\n",
    "\n",
    "\n",
    "def remove_emojis(text):\n",
    "    emoji_pattern = re.compile(\"[\"\n",
    "                               u\"\\U0001F600-\\U0001F64F\"  # emoticons\n",
    "                               u\"\\U0001F300-\\U0001F5FF\"  # symbols & pictographs\n",
    "                               u\"\\U0001F680-\\U0001F6FF\"  # transport & map symbols\n",
    "                               u\"\\U0001F1E0-\\U0001F1FF\"  # flags (iOS)\n",
    "                               u\"\\U00002500-\\U00002BEF\"  # chinese char\n",
    "                               u\"\\U00002702-\\U000027B0\"\n",
    "                               u\"\\U00002702-\\U000027B0\"\n",
    "                               u\"\\U000024C2-\\U0001F251\"\n",
    "                               u\"\\U0001f926-\\U0001f937\"\n",
    "                               u\"\\U00010000-\\U0010ffff\"\n",
    "                               u\"\\u2640-\\u2642\"\n",
    "                               u\"\\u2600-\\u2B55\"\n",
    "                               u\"\\u200d\"\n",
    "                               u\"\\u23cf\"\n",
    "                               u\"\\u23e9\"\n",
    "                               u\"\\u231a\"\n",
    "                               u\"\\ufe0f\"  # dingbats\n",
    "                               u\"\\u3030\"\n",
    "                               \"]+\", flags=re.UNICODE)\n",
    "    without_emoji = emoji_pattern.sub(r'',text)\n",
    "    return without_emoji\n",
    "\n",
    "def remove_nonalpha(text):\n",
    "    nonalpha_pattern = \"[+$@#?~]\"\n",
    "    without_nonalpha = re.sub(pattern=nonalpha_pattern, repl=\" \", string=text)\n",
    "    return without_nonalpha\n",
    "    \n",
    "def remove_rt(text):\n",
    "    rt_pattern = 'rt @[\\w_]+: '\n",
    "    without_pattern = re.sub(pattern = rt_pattern, repl=\" \", string = text)\n",
    "    return without_pattern \n",
    "\n",
    "def remove_extra_spaces(text):\n",
    "    space_pattern = r'\\s+'\n",
    "    without_space = re.sub(pattern=space_pattern, repl=\" \", string=text)\n",
    "    return without_space\n",
    "\n",
    "def strip_list_noempty(mylist):\n",
    "    newlist = (item.strip() if hasattr(item, 'strip') else item for item in mylist)\n",
    "    return [item for item in newlist if item != '']"
   ]
  },
  {
   "cell_type": "markdown",
   "metadata": {},
   "source": [
    "## Function BiGrams"
   ]
  },
  {
   "cell_type": "code",
   "execution_count": 153,
   "metadata": {},
   "outputs": [],
   "source": [
    "from gensim.models import Phrases\n",
    "def make_n_grams(docs):\n",
    "    # Add bigrams and trigrams to docs (only ones that appear 20 times or more).\n",
    "    bigram = Phrases(docs, min_count=1)\n",
    "    for idx in range(len(docs)):\n",
    "        for token in bigram[docs[idx]]:\n",
    "            if '_' in token:\n",
    "                # Token is a bigram, add to document.\n",
    "                docs[idx].append(token)\n",
    "    return docs"
   ]
  },
  {
   "cell_type": "markdown",
   "metadata": {},
   "source": [
    "## Function: Lemmatizing texts"
   ]
  },
  {
   "cell_type": "code",
   "execution_count": 154,
   "metadata": {},
   "outputs": [],
   "source": [
    "def pre_processer_real(corpus):\n",
    "    corpus = [text.lower() for text in corpus]\n",
    "    corpus = [remove_urls(text) for text in corpus]\n",
    "    corpus = [remove_single_char(text) for text in corpus]\n",
    "    corpus = [remove_numbers(text) for text in corpus]\n",
    "    corpus = [remove_rt(text) for text in corpus]\n",
    "    corpus = [remove_emojis(text) for text in corpus]\n",
    "    corpus = [remove_nonalpha(text) for text in corpus]\n",
    "    corpus = [text.encode(\"ascii\", \"ignore\") for text in corpus]\n",
    "    corpus = [text.decode() for text in corpus]\n",
    "    corpus = [remove_extra_spaces(text) for text in corpus]\n",
    "    corpus = strip_list_noempty(corpus)\n",
    "    \n",
    "    processed_texts = [text for text in nlp.pipe(corpus, \n",
    "                                              disable=[\"ner\",\n",
    "                                                       \"parser\"])]\n",
    "    tokenized_texts = [[word.lemma_ for word in lemma_ if not word.is_punct if not word.is_stop] \n",
    "                            for lemma_ in processed_texts]\n",
    "    tokenized_texts = make_n_grams(tokenized_texts)\n",
    "    \n",
    "    flatten = lambda t: [item for sublist in t for item in sublist]\n",
    "    flat_real = flatten(tokenized_texts)\n",
    "    counts = Counter(flat_real)\n",
    "    total_words = sum(counts.values()) \n",
    "    for word in counts:\n",
    "        counts[word] = counts[word] #* (10000) / total_words\n",
    "    return counts, counts.most_common(), flat_real, tokenized_texts\n",
    "\n",
    "def pre_processer_fake(corpus):\n",
    "    corpus = [text.lower() for text in corpus]\n",
    "    corpus = [remove_urls(text) for text in corpus]\n",
    "    corpus = [remove_single_char(text) for text in corpus]\n",
    "    corpus = [remove_numbers(text) for text in corpus]\n",
    "    corpus = [remove_rt(text) for text in corpus]\n",
    "    corpus = [remove_emojis(text) for text in corpus]\n",
    "    corpus = [remove_nonalpha(text) for text in corpus]\n",
    "    corpus = [text.encode(\"ascii\", \"ignore\") for text in corpus]\n",
    "    corpus = [text.decode() for text in corpus]\n",
    "    corpus = [remove_extra_spaces(text) for text in corpus]\n",
    "    corpus = strip_list_noempty(corpus)\n",
    "\n",
    "    processed_texts = [text for text in nlp.pipe(corpus, \n",
    "                                              disable=[\"ner\",\n",
    "                                                       \"parser\"])]\n",
    "    tokenized_texts = [[word.lemma_ for word in lemma_ if not word.is_punct if not word.is_stop] \n",
    "                            for lemma_ in processed_texts]\n",
    "    tokenized_texts = make_n_grams(tokenized_texts)\n",
    "    \n",
    "    flatten = lambda t: [item for sublist in t for item in sublist]\n",
    "    flat_fake = flatten(tokenized_texts)\n",
    "    counts = Counter(flat_fake)\n",
    "    total_words = sum(counts.values()) \n",
    "    for word in counts:\n",
    "        counts[word] = counts[word] #* (10000) / total_words\n",
    "    return counts, counts.most_common(), flat_fake, tokenized_texts"
   ]
  },
  {
   "cell_type": "markdown",
   "metadata": {},
   "source": [
    "## Function: distinctive words"
   ]
  },
  {
   "cell_type": "code",
   "execution_count": 155,
   "metadata": {},
   "outputs": [],
   "source": [
    "def distinctive_words(target_corpus, reference_corpus):\n",
    "    counts_c1 = Counter(target_corpus) # don't forget to flatten your texts!\n",
    "    counts_c2 = Counter(reference_corpus)\n",
    "    vocabulary = set(list(counts_c1.keys()) + list(counts_c2.keys()))\n",
    "    freq_c1_total = sum(counts_c1.values()) \n",
    "    freq_c2_total = sum(counts_c2.values()) \n",
    "    results = []\n",
    "    for word in vocabulary:\n",
    "        freq_c1 = counts_c1[word]\n",
    "        freq_c2 = counts_c2[word]\n",
    "        freq_c1_other = freq_c1_total - freq_c1\n",
    "        freq_c2_other = freq_c2_total - freq_c2\n",
    "        llr, p_value,_,_ = chi2_contingency([[freq_c1, freq_c2], \n",
    "                      [freq_c1_other, freq_c2_other]],\n",
    "                      lambda_='log-likelihood') \n",
    "        if freq_c2 / freq_c2_other > freq_c1 / freq_c1_other:\n",
    "            llr = -llr\n",
    "        result = {'word':word, \n",
    "                    'llr':llr,\n",
    "                    'p_value': p_value}\n",
    "        results.append(result)\n",
    "    results_df = pd.DataFrame(results)\n",
    "    return results_df"
   ]
  },
  {
   "cell_type": "markdown",
   "metadata": {},
   "source": [
    "## Function: Topic modelling LDA Gensim"
   ]
  },
  {
   "cell_type": "code",
   "execution_count": 156,
   "metadata": {},
   "outputs": [],
   "source": [
    "def topic_modelling(tokenized_text, n_topics, n_iterations):\n",
    "    results = []\n",
    "\n",
    "\n",
    "    dictionary = Dictionary(tokenized_text) # get the vocabulary\n",
    "\n",
    "    corpus = [dictionary.doc2bow(text) for text in tokenized_text]\n",
    "\n",
    "    PATH_TO_MALLET = '/Users/rosalucassen/Documents/UU/DataMining/mallet-2.0.8/bin/mallet'\n",
    "    N_TOPICS = n_topics\n",
    "    N_ITERATIONS = n_iterations\n",
    "\n",
    "    lda = LdaMallet(PATH_TO_MALLET,\n",
    "                    corpus=corpus,\n",
    "                    id2word=dictionary,\n",
    "                    num_topics=N_TOPICS,\n",
    "                    iterations=N_ITERATIONS)\n",
    "\n",
    "    for topic in range(N_TOPICS):\n",
    "        words = lda.show_topic(topic, 10)\n",
    "        topic_n_words = ' '.join([word[0] for word in words])\n",
    "        result = {'Topic':str(topic), \n",
    "                    'Words':topic_n_words}\n",
    "        results.append(result)\n",
    "    results_df = pd.DataFrame(results)\n",
    "    pd.set_option('display.max_colwidth', None)\n",
    "    return results_df, lda, dictionary"
   ]
  },
  {
   "cell_type": "code",
   "execution_count": 157,
   "metadata": {},
   "outputs": [],
   "source": [
    "# Shows all words instead of just the 10 most popular words\n",
    "def topic_modelling_results(tokenized_text, n_topics, n_iterations):\n",
    "    results = []\n",
    "\n",
    "    dictionary = Dictionary(tokenized_text) # get the vocabulary\n",
    "    corpus = [dictionary.doc2bow(text) for text in tokenized_text]\n",
    "\n",
    "    PATH_TO_MALLET = '/Users/rosalucassen/Documents/UU/DataMining/mallet-2.0.8/bin/mallet'\n",
    "    N_TOPICS = n_topics\n",
    "    N_ITERATIONS = n_iterations\n",
    "\n",
    "    lda = LdaMallet(PATH_TO_MALLET,\n",
    "                    corpus=corpus,\n",
    "                    id2word=dictionary,\n",
    "                    num_topics=N_TOPICS,\n",
    "                    iterations=N_ITERATIONS)\n",
    "    \n",
    "    for topic in range(N_TOPICS):\n",
    "        words = lda.show_topic(topic)\n",
    "        topic_n_words = ' '.join([word[0] for word in words])\n",
    "        result = {'Topic':str(topic), \n",
    "                    'Words':topic_n_words}\n",
    "        results.append(result)\n",
    "    results_DF = pd.DataFrame(results)\n",
    "    pd.set_option('display.max_colwidth', None)\n",
    "    return results_DF, lda, dictionary"
   ]
  },
  {
   "cell_type": "markdown",
   "metadata": {},
   "source": [
    "## Exploring the data"
   ]
  },
  {
   "cell_type": "markdown",
   "metadata": {},
   "source": [
    "#### Training data"
   ]
  },
  {
   "cell_type": "code",
   "execution_count": null,
   "metadata": {},
   "outputs": [],
   "source": [
    "d_train.info()"
   ]
  },
  {
   "cell_type": "code",
   "execution_count": null,
   "metadata": {},
   "outputs": [],
   "source": [
    "d_train.head()"
   ]
  },
  {
   "cell_type": "code",
   "execution_count": null,
   "metadata": {
    "scrolled": false
   },
   "outputs": [],
   "source": [
    "d_train[\"label\"].unique()"
   ]
  },
  {
   "cell_type": "code",
   "execution_count": null,
   "metadata": {},
   "outputs": [],
   "source": [
    "grouped_train = d_train.groupby('label').count() \n",
    "grouped_train.head()"
   ]
  },
  {
   "cell_type": "markdown",
   "metadata": {},
   "source": [
    "#### Validation data"
   ]
  },
  {
   "cell_type": "code",
   "execution_count": null,
   "metadata": {},
   "outputs": [],
   "source": [
    "d_val.info()"
   ]
  },
  {
   "cell_type": "code",
   "execution_count": null,
   "metadata": {},
   "outputs": [],
   "source": [
    "d_val.head()"
   ]
  },
  {
   "cell_type": "code",
   "execution_count": null,
   "metadata": {},
   "outputs": [],
   "source": [
    "d_val[\"label\"].unique()"
   ]
  },
  {
   "cell_type": "code",
   "execution_count": null,
   "metadata": {},
   "outputs": [],
   "source": [
    "grouped_val = d_val.groupby('label').count() \n",
    "grouped_val.head()"
   ]
  },
  {
   "cell_type": "markdown",
   "metadata": {},
   "source": [
    "### Test data"
   ]
  },
  {
   "cell_type": "code",
   "execution_count": null,
   "metadata": {},
   "outputs": [],
   "source": [
    "d_test.info()"
   ]
  },
  {
   "cell_type": "code",
   "execution_count": null,
   "metadata": {
    "scrolled": true
   },
   "outputs": [],
   "source": [
    "d_test.head()"
   ]
  },
  {
   "cell_type": "code",
   "execution_count": null,
   "metadata": {},
   "outputs": [],
   "source": [
    "d_test_labeled.info()"
   ]
  },
  {
   "cell_type": "code",
   "execution_count": null,
   "metadata": {},
   "outputs": [],
   "source": [
    "d_test_labeled.head()"
   ]
  },
  {
   "cell_type": "code",
   "execution_count": null,
   "metadata": {},
   "outputs": [],
   "source": [
    "d_test_labeled[\"label\"].unique()"
   ]
  },
  {
   "cell_type": "code",
   "execution_count": null,
   "metadata": {
    "scrolled": false
   },
   "outputs": [],
   "source": [
    "grouped_test = d_test_labeled.groupby('label').count() \n",
    "grouped_test.head()"
   ]
  },
  {
   "cell_type": "markdown",
   "metadata": {},
   "source": [
    "## Combine labelled data"
   ]
  },
  {
   "cell_type": "code",
   "execution_count": 158,
   "metadata": {},
   "outputs": [
    {
     "data": {
      "text/html": [
       "<div>\n",
       "<style scoped>\n",
       "    .dataframe tbody tr th:only-of-type {\n",
       "        vertical-align: middle;\n",
       "    }\n",
       "\n",
       "    .dataframe tbody tr th {\n",
       "        vertical-align: top;\n",
       "    }\n",
       "\n",
       "    .dataframe thead th {\n",
       "        text-align: right;\n",
       "    }\n",
       "</style>\n",
       "<table border=\"1\" class=\"dataframe\">\n",
       "  <thead>\n",
       "    <tr style=\"text-align: right;\">\n",
       "      <th></th>\n",
       "      <th>id</th>\n",
       "      <th>tweet</th>\n",
       "      <th>label</th>\n",
       "    </tr>\n",
       "  </thead>\n",
       "  <tbody>\n",
       "    <tr>\n",
       "      <th>0</th>\n",
       "      <td>1</td>\n",
       "      <td>The CDC currently reports 99031 deaths. In general the discrepancies in death counts between different sources are small and explicable. The death toll stands at roughly 100000 people today.</td>\n",
       "      <td>real</td>\n",
       "    </tr>\n",
       "    <tr>\n",
       "      <th>1</th>\n",
       "      <td>2</td>\n",
       "      <td>States reported 1121 deaths a small rise from last Tuesday. Southern states reported 640 of those deaths. https://t.co/YASGRTT4ux</td>\n",
       "      <td>real</td>\n",
       "    </tr>\n",
       "    <tr>\n",
       "      <th>2</th>\n",
       "      <td>3</td>\n",
       "      <td>Politically Correct Woman (Almost) Uses Pandemic as Excuse Not to Reuse Plastic Bag https://t.co/thF8GuNFPe #coronavirus #nashville</td>\n",
       "      <td>fake</td>\n",
       "    </tr>\n",
       "    <tr>\n",
       "      <th>3</th>\n",
       "      <td>4</td>\n",
       "      <td>#IndiaFightsCorona: We have 1524 #COVID testing laboratories in India and as on 25th August 2020 36827520 tests have been done : @ProfBhargava DG @ICMRDELHI #StaySafe #IndiaWillWin https://t.co/Yh3ZxknnhZ</td>\n",
       "      <td>real</td>\n",
       "    </tr>\n",
       "    <tr>\n",
       "      <th>4</th>\n",
       "      <td>5</td>\n",
       "      <td>Populous states can generate large case counts but if you look at the new cases per million today 9 smaller states are showing more cases per million than California or Texas: AL AR ID KS KY LA MS NV and SC. https://t.co/1pYW6cWRaS</td>\n",
       "      <td>real</td>\n",
       "    </tr>\n",
       "  </tbody>\n",
       "</table>\n",
       "</div>"
      ],
      "text/plain": [
       "   id  \\\n",
       "0   1   \n",
       "1   2   \n",
       "2   3   \n",
       "3   4   \n",
       "4   5   \n",
       "\n",
       "                                                                                                                                                                                                                                     tweet  \\\n",
       "0                                           The CDC currently reports 99031 deaths. In general the discrepancies in death counts between different sources are small and explicable. The death toll stands at roughly 100000 people today.   \n",
       "1                                                                                                        States reported 1121 deaths a small rise from last Tuesday. Southern states reported 640 of those deaths. https://t.co/YASGRTT4ux   \n",
       "2                                                                                                      Politically Correct Woman (Almost) Uses Pandemic as Excuse Not to Reuse Plastic Bag https://t.co/thF8GuNFPe #coronavirus #nashville   \n",
       "3                             #IndiaFightsCorona: We have 1524 #COVID testing laboratories in India and as on 25th August 2020 36827520 tests have been done : @ProfBhargava DG @ICMRDELHI #StaySafe #IndiaWillWin https://t.co/Yh3ZxknnhZ   \n",
       "4  Populous states can generate large case counts but if you look at the new cases per million today 9 smaller states are showing more cases per million than California or Texas: AL AR ID KS KY LA MS NV and SC. https://t.co/1pYW6cWRaS   \n",
       "\n",
       "  label  \n",
       "0  real  \n",
       "1  real  \n",
       "2  fake  \n",
       "3  real  \n",
       "4  real  "
      ]
     },
     "execution_count": 158,
     "metadata": {},
     "output_type": "execute_result"
    }
   ],
   "source": [
    "data_train = pd.concat([d_train, d_test_labeled, d_val])\n",
    "data_train.head()"
   ]
  },
  {
   "cell_type": "code",
   "execution_count": 108,
   "metadata": {},
   "outputs": [
    {
     "name": "stdout",
     "output_type": "stream",
     "text": [
      "<class 'pandas.core.frame.DataFrame'>\n",
      "Int64Index: 10700 entries, 0 to 2139\n",
      "Data columns (total 3 columns):\n",
      " #   Column  Non-Null Count  Dtype \n",
      "---  ------  --------------  ----- \n",
      " 0   id      10700 non-null  int64 \n",
      " 1   tweet   10700 non-null  object\n",
      " 2   label   10700 non-null  object\n",
      "dtypes: int64(1), object(2)\n",
      "memory usage: 334.4+ KB\n"
     ]
    }
   ],
   "source": [
    "data_train.info()"
   ]
  },
  {
   "cell_type": "code",
   "execution_count": 109,
   "metadata": {},
   "outputs": [
    {
     "data": {
      "text/html": [
       "<div>\n",
       "<style scoped>\n",
       "    .dataframe tbody tr th:only-of-type {\n",
       "        vertical-align: middle;\n",
       "    }\n",
       "\n",
       "    .dataframe tbody tr th {\n",
       "        vertical-align: top;\n",
       "    }\n",
       "\n",
       "    .dataframe thead th {\n",
       "        text-align: right;\n",
       "    }\n",
       "</style>\n",
       "<table border=\"1\" class=\"dataframe\">\n",
       "  <thead>\n",
       "    <tr style=\"text-align: right;\">\n",
       "      <th></th>\n",
       "      <th>id</th>\n",
       "      <th>tweet</th>\n",
       "    </tr>\n",
       "    <tr>\n",
       "      <th>label</th>\n",
       "      <th></th>\n",
       "      <th></th>\n",
       "    </tr>\n",
       "  </thead>\n",
       "  <tbody>\n",
       "    <tr>\n",
       "      <th>fake</th>\n",
       "      <td>5100</td>\n",
       "      <td>5100</td>\n",
       "    </tr>\n",
       "    <tr>\n",
       "      <th>real</th>\n",
       "      <td>5600</td>\n",
       "      <td>5600</td>\n",
       "    </tr>\n",
       "  </tbody>\n",
       "</table>\n",
       "</div>"
      ],
      "text/plain": [
       "         id  tweet\n",
       "label             \n",
       "fake   5100   5100\n",
       "real   5600   5600"
      ]
     },
     "execution_count": 109,
     "metadata": {},
     "output_type": "execute_result"
    }
   ],
   "source": [
    "grouped_train = data_train.groupby('label').count() \n",
    "grouped_train.head()"
   ]
  },
  {
   "cell_type": "code",
   "execution_count": 159,
   "metadata": {},
   "outputs": [],
   "source": [
    "nlp.vocab[\"covid\"].is_stop = True\n",
    "nlp.vocab[\"corona\"].is_stop = True\n",
    "nlp.vocab[\"covid19\"].is_stop = True\n",
    "nlp.vocab[\"covid-19\"].is_stop = True\n",
    "nlp.vocab[\"corona\"].is_stop = True\n",
    "nlp.vocab[\"coronavirus\"].is_stop = True"
   ]
  },
  {
   "cell_type": "markdown",
   "metadata": {},
   "source": [
    "## Results: Pre-processing (before manually removing COVID-19 stopwords)"
   ]
  },
  {
   "cell_type": "code",
   "execution_count": 160,
   "metadata": {
    "scrolled": true
   },
   "outputs": [
    {
     "name": "stdout",
     "output_type": "stream",
     "text": [
      "[('say', 82.5959549528844), ('claim', 74.83911744426568), ('people', 72.82808549758676), ('virus', 63.34750632038612), ('vaccine', 58.17628131464031), ('trump', 56.02160422891289), ('pandemic', 52.861411169846015), ('case', 52.861411169846015), ('new', 52.574120891749025), ('test', 50.419443806021604), ('video', 46.97196046885773), ('india', 46.97196046885773), ('hospital', 45.82279935646978), ('death', 41.51344518501494), ('president', 39.789703516433), ('show', 39.646058377384506), ('die', 38.92783268214204), ('cure', 38.209606986899566), ('lockdown', 35.91128476212365), ('patient', 34.18754309354171)]\n",
      "[('case', 267.4742952056835), ('test', 163.4815891385396), ('report', 133.69201187972232), ('new', 132.0671258474232), ('state', 123.7621527934499), ('number', 95.41691867445408), ('death', 94.24338987334916), ('total', 79.25832979770169), ('people', 70.68254240501187), ('confirm', 65.98842720059218), ('amp', 63.64136959838233), ('day', 62.558112243516256), ('today', 57.86399703909656), ('testing', 54.61422497449831), ('update', 52.086624479810794), ('indiafightscorona', 49.28820964640674), ('india', 45.22599456565894), ('health', 43.059479855926774), ('high', 41.43459382362765), ('k', 36.3793928342526)]\n"
     ]
    }
   ],
   "source": [
    "corpus_train_fake = data_train[data_train.label == \"fake\"][\"tweet\"]\n",
    "corpus_train_real = data_train[data_train.label == \"real\"][\"tweet\"]\n",
    "word_count_fake, output_fake, flat_fake, tokenized_texts_fake = pre_processer_fake(corpus_train_fake)\n",
    "print(output_fake[:20])\n",
    "word_count_real, output_real, flat_real, tokenized_texts_real = pre_processer_real(corpus_train_real)\n",
    "print(output_real[:20])"
   ]
  },
  {
   "cell_type": "code",
   "execution_count": 161,
   "metadata": {},
   "outputs": [
    {
     "data": {
      "image/png": "[encoded data removed]",
      "text/plain": [
       "<Figure size 432x288 with 1 Axes>"
      ]
     },
     "metadata": {
      "needs_background": "light"
     },
     "output_type": "display_data"
    },
    {
     "data": {
      "text/plain": [
       "<AxesSubplot:title={'center':'Frequency distribution fake news'}, xlabel='Samples', ylabel='Counts'>"
      ]
     },
     "execution_count": 161,
     "metadata": {},
     "output_type": "execute_result"
    }
   ],
   "source": [
    "import nltk\n",
    "from nltk import FreqDist\n",
    "fdist_filtered = FreqDist(word_count_fake)\n",
    "fdist_filtered.plot(70,title='Frequency distribution fake news')"
   ]
  },
  {
   "cell_type": "code",
   "execution_count": 113,
   "metadata": {},
   "outputs": [
    {
     "data": {
      "image/png": "[encoded data removed]",
      "text/plain": [
       "<Figure size 432x288 with 1 Axes>"
      ]
     },
     "metadata": {
      "needs_background": "light"
     },
     "output_type": "display_data"
    },
    {
     "data": {
      "text/plain": [
       "<AxesSubplot:title={'center':'Frequency distribution fake news'}, xlabel='Samples', ylabel='Counts'>"
      ]
     },
     "execution_count": 113,
     "metadata": {},
     "output_type": "execute_result"
    }
   ],
   "source": [
    "fdist_filtered = FreqDist(word_count_real)\n",
    "fdist_filtered.plot(70,title='Frequency distribution fake news')"
   ]
  },
  {
   "cell_type": "markdown",
   "metadata": {},
   "source": [
    "So, lets try removing \"coronavirus\", \"covid-19\" and \"covid19\".\n",
    "\n",
    "The fake news dataset had: \n",
    "- 2129x \"coronavirus\" \n",
    "- 1601x \"covid-19\"\n",
    "- 372x \"covid19\"\n",
    "\n",
    "The real news dataset had:\n",
    "- 2963x \"case\"\n",
    "- 2216x \"covid19\"\n",
    "- 1811x \"case\"\n",
    "- 1481x \"report\"\n",
    "- 1463x \"new\"\n",
    "- 1371x \"state\"\n",
    "- 1146x \"covid-19\"\n",
    "- 575x \"coronavirus\""
   ]
  },
  {
   "cell_type": "markdown",
   "metadata": {},
   "source": [
    "## Results: Topic modelling LDA Gensim"
   ]
  },
  {
   "cell_type": "markdown",
   "metadata": {},
   "source": [
    "#### Fake news"
   ]
  },
  {
   "cell_type": "code",
   "execution_count": 114,
   "metadata": {},
   "outputs": [
    {
     "data": {
      "text/html": [
       "<div>\n",
       "<style scoped>\n",
       "    .dataframe tbody tr th:only-of-type {\n",
       "        vertical-align: middle;\n",
       "    }\n",
       "\n",
       "    .dataframe tbody tr th {\n",
       "        vertical-align: top;\n",
       "    }\n",
       "\n",
       "    .dataframe thead th {\n",
       "        text-align: right;\n",
       "    }\n",
       "</style>\n",
       "<table border=\"1\" class=\"dataframe\">\n",
       "  <thead>\n",
       "    <tr style=\"text-align: right;\">\n",
       "      <th></th>\n",
       "      <th>Topic</th>\n",
       "      <th>Words</th>\n",
       "    </tr>\n",
       "  </thead>\n",
       "  <tbody>\n",
       "    <tr>\n",
       "      <th>0</th>\n",
       "      <td>0</td>\n",
       "      <td>people pandemic death lockdown state case italy infection number flu</td>\n",
       "    </tr>\n",
       "    <tr>\n",
       "      <th>1</th>\n",
       "      <td>1</td>\n",
       "      <td>virus test cure news day kill positive world find infect</td>\n",
       "    </tr>\n",
       "    <tr>\n",
       "      <th>2</th>\n",
       "      <td>2</td>\n",
       "      <td>claim video hospital show die patient doctor post time vaccine</td>\n",
       "    </tr>\n",
       "    <tr>\n",
       "      <th>3</th>\n",
       "      <td>3</td>\n",
       "      <td>mask china government man spread chinese wear year work wuhan</td>\n",
       "    </tr>\n",
       "    <tr>\n",
       "      <th>4</th>\n",
       "      <td>4</td>\n",
       "      <td>trump president vaccine india health case country donald report fact</td>\n",
       "    </tr>\n",
       "  </tbody>\n",
       "</table>\n",
       "</div>"
      ],
      "text/plain": [
       "  Topic                                                                 Words\n",
       "0     0  people pandemic death lockdown state case italy infection number flu\n",
       "1     1              virus test cure news day kill positive world find infect\n",
       "2     2        claim video hospital show die patient doctor post time vaccine\n",
       "3     3         mask china government man spread chinese wear year work wuhan\n",
       "4     4  trump president vaccine india health case country donald report fact"
      ]
     },
     "execution_count": 114,
     "metadata": {},
     "output_type": "execute_result"
    }
   ],
   "source": [
    "topics, lda_fake, dictionary = topic_modelling_results(tokenized_texts_fake, 5, 400)\n",
    "topics"
   ]
  },
  {
   "cell_type": "code",
   "execution_count": 115,
   "metadata": {},
   "outputs": [
    {
     "name": "stdout",
     "output_type": "stream",
     "text": [
      "\n",
      "Coherence Score:  0.44484759625892306\n"
     ]
    }
   ],
   "source": [
    "# Compute Coherence Score using c_v\n",
    "coherence_model_lda = CoherenceModel(model=lda_fake, texts=tokenized_texts_fake, dictionary=dictionary, coherence='c_v')\n",
    "coherence_lda = coherence_model_lda.get_coherence()\n",
    "print('\\nCoherence Score: ', coherence_lda)"
   ]
  },
  {
   "cell_type": "markdown",
   "metadata": {},
   "source": [
    "- Two topics:     c_v = 0.535\n",
    "- Three topics:   c_v = 0.4999\n",
    "- Four topics:    c_v = 0.440\n",
    "- Five topics :   c_v = 0.4562\n",
    "- Six topics:     c_v = 0.387\n",
    "- Seven topics:   c_v = 0.367\n",
    "- Eight topics:   c_v = 0.406\n",
    "- Nine topics:    c_v = 0.4006\n",
    "\n",
    "- Ten topics:     c_v = 0.4048\n",
    "- Eleven topics:  c_v = 0.3759\n",
    "- Twelve topics:  c_v = 0.372\n",
    "- Thirteen topics:c_v = 0.3959\n",
    "- Fourteen topics:c_v = 0.3869\n",
    "- Fifteen topics: c_v = 0.3956\n",
    "\n",
    "- Twenty topics:  c_v = 0.4009\n",
    "- Fourty topics:  c_v = 0.41147\n",
    "- Fifty topics:   c_v = 0.4391\n",
    "- Sixty topics:   c_v = 0.4329\n",
    "- Seventy topics: c_v = 0.443\n",
    "- Eighty topics:  c_v = 0.4402"
   ]
  },
  {
   "cell_type": "markdown",
   "metadata": {},
   "source": [
    "#### Real news"
   ]
  },
  {
   "cell_type": "code",
   "execution_count": 116,
   "metadata": {
    "scrolled": true
   },
   "outputs": [
    {
     "data": {
      "text/html": [
       "<div>\n",
       "<style scoped>\n",
       "    .dataframe tbody tr th:only-of-type {\n",
       "        vertical-align: middle;\n",
       "    }\n",
       "\n",
       "    .dataframe tbody tr th {\n",
       "        vertical-align: top;\n",
       "    }\n",
       "\n",
       "    .dataframe thead th {\n",
       "        text-align: right;\n",
       "    }\n",
       "</style>\n",
       "<table border=\"1\" class=\"dataframe\">\n",
       "  <thead>\n",
       "    <tr style=\"text-align: right;\">\n",
       "      <th></th>\n",
       "      <th>Topic</th>\n",
       "      <th>Words</th>\n",
       "    </tr>\n",
       "  </thead>\n",
       "  <tbody>\n",
       "    <tr>\n",
       "      <th>0</th>\n",
       "      <td>0</td>\n",
       "      <td>spread face mask wear protect amp public slow hand learn</td>\n",
       "    </tr>\n",
       "    <tr>\n",
       "      <th>1</th>\n",
       "      <td>1</td>\n",
       "      <td>state datum number hospitalization report york new_york alexismadrigal large positive</td>\n",
       "    </tr>\n",
       "    <tr>\n",
       "      <th>2</th>\n",
       "      <td>2</td>\n",
       "      <td>case confirm death nigeria pm april report state confirm_case discharge</td>\n",
       "    </tr>\n",
       "    <tr>\n",
       "      <th>3</th>\n",
       "      <td>3</td>\n",
       "      <td>case total test confirm complete state bring date yesterday bring_total</td>\n",
       "    </tr>\n",
       "    <tr>\n",
       "      <th>4</th>\n",
       "      <td>4</td>\n",
       "      <td>amp testing health lab capacity response service public_health national public</td>\n",
       "    </tr>\n",
       "    <tr>\n",
       "      <th>5</th>\n",
       "      <td>5</td>\n",
       "      <td>death case covid19nigeria show case_covid19nigeria confirm south discharge cdc late</td>\n",
       "    </tr>\n",
       "    <tr>\n",
       "      <th>6</th>\n",
       "      <td>6</td>\n",
       "      <td>case isolation facility community manage positive manage_isolation quarantine update auckland</td>\n",
       "    </tr>\n",
       "    <tr>\n",
       "      <th>7</th>\n",
       "      <td>7</td>\n",
       "      <td>contact amp close result virus clinical treatment travel lead early</td>\n",
       "    </tr>\n",
       "    <tr>\n",
       "      <th>8</th>\n",
       "      <td>8</td>\n",
       "      <td>test report state update daily state_report track million publish daily_update</td>\n",
       "    </tr>\n",
       "    <tr>\n",
       "      <th>9</th>\n",
       "      <td>9</td>\n",
       "      <td>home infection high outbreak level person area issue place base</td>\n",
       "    </tr>\n",
       "    <tr>\n",
       "      <th>10</th>\n",
       "      <td>10</td>\n",
       "      <td>people symptom find child important medical visit include family change</td>\n",
       "    </tr>\n",
       "    <tr>\n",
       "      <th>11</th>\n",
       "      <td>11</td>\n",
       "      <td>people hospital today covid_19 coronavirusupdate covid__19 coronavirusindia north city covidupdate</td>\n",
       "    </tr>\n",
       "    <tr>\n",
       "      <th>12</th>\n",
       "      <td>12</td>\n",
       "      <td>number case report total total_number zealand new_zealand health remain confirm_case</td>\n",
       "    </tr>\n",
       "    <tr>\n",
       "      <th>13</th>\n",
       "      <td>13</td>\n",
       "      <td>test day testing increase continue high cumulative drharshvardhan pib_india pmoindia</td>\n",
       "    </tr>\n",
       "    <tr>\n",
       "      <th>14</th>\n",
       "      <td>14</td>\n",
       "      <td>country vaccine study drtedros minister drtedro work pandemic rule access</td>\n",
       "    </tr>\n",
       "    <tr>\n",
       "      <th>15</th>\n",
       "      <td>15</td>\n",
       "      <td>case active indiafightscorona recover active_case staysafe indiawillwin mohfw_india sample total</td>\n",
       "    </tr>\n",
       "    <tr>\n",
       "      <th>16</th>\n",
       "      <td>16</td>\n",
       "      <td>risk patient learn work cdc pandemic group provide year plan</td>\n",
       "    </tr>\n",
       "    <tr>\n",
       "      <th>17</th>\n",
       "      <td>17</td>\n",
       "      <td>india rate recovery indiafightscorona lakh high record indiafightscorona_india hour conduct</td>\n",
       "    </tr>\n",
       "    <tr>\n",
       "      <th>18</th>\n",
       "      <td>18</td>\n",
       "      <td>uk restriction late government follow lockdown read live measure add</td>\n",
       "    </tr>\n",
       "    <tr>\n",
       "      <th>19</th>\n",
       "      <td>19</td>\n",
       "      <td>death week report day today average low time 7-day fall</td>\n",
       "    </tr>\n",
       "  </tbody>\n",
       "</table>\n",
       "</div>"
      ],
      "text/plain": [
       "   Topic  \\\n",
       "0      0   \n",
       "1      1   \n",
       "2      2   \n",
       "3      3   \n",
       "4      4   \n",
       "5      5   \n",
       "6      6   \n",
       "7      7   \n",
       "8      8   \n",
       "9      9   \n",
       "10    10   \n",
       "11    11   \n",
       "12    12   \n",
       "13    13   \n",
       "14    14   \n",
       "15    15   \n",
       "16    16   \n",
       "17    17   \n",
       "18    18   \n",
       "19    19   \n",
       "\n",
       "                                                                                                 Words  \n",
       "0                                             spread face mask wear protect amp public slow hand learn  \n",
       "1                state datum number hospitalization report york new_york alexismadrigal large positive  \n",
       "2                              case confirm death nigeria pm april report state confirm_case discharge  \n",
       "3                              case total test confirm complete state bring date yesterday bring_total  \n",
       "4                       amp testing health lab capacity response service public_health national public  \n",
       "5                  death case covid19nigeria show case_covid19nigeria confirm south discharge cdc late  \n",
       "6        case isolation facility community manage positive manage_isolation quarantine update auckland  \n",
       "7                                  contact amp close result virus clinical treatment travel lead early  \n",
       "8                       test report state update daily state_report track million publish daily_update  \n",
       "9                                      home infection high outbreak level person area issue place base  \n",
       "10                             people symptom find child important medical visit include family change  \n",
       "11  people hospital today covid_19 coronavirusupdate covid__19 coronavirusindia north city covidupdate  \n",
       "12                number case report total total_number zealand new_zealand health remain confirm_case  \n",
       "13                test day testing increase continue high cumulative drharshvardhan pib_india pmoindia  \n",
       "14                           country vaccine study drtedros minister drtedro work pandemic rule access  \n",
       "15    case active indiafightscorona recover active_case staysafe indiawillwin mohfw_india sample total  \n",
       "16                                        risk patient learn work cdc pandemic group provide year plan  \n",
       "17         india rate recovery indiafightscorona lakh high record indiafightscorona_india hour conduct  \n",
       "18                                uk restriction late government follow lockdown read live measure add  \n",
       "19                                             death week report day today average low time 7-day fall  "
      ]
     },
     "execution_count": 116,
     "metadata": {},
     "output_type": "execute_result"
    }
   ],
   "source": [
    "topics_real, lda_real, dictionary = topic_modelling_results(tokenized_texts_real, 20, 400)\n",
    "topics_real"
   ]
  },
  {
   "cell_type": "code",
   "execution_count": 117,
   "metadata": {},
   "outputs": [
    {
     "name": "stdout",
     "output_type": "stream",
     "text": [
      "\n",
      "Coherence Score:  0.48230457915828195\n"
     ]
    }
   ],
   "source": [
    "# Compute Coherence Score using c_v\n",
    "coherence_model_lda = CoherenceModel(model=lda_real, texts=tokenized_texts_real, dictionary=dictionary, coherence='c_v')\n",
    "coherence_lda = coherence_model_lda.get_coherence()\n",
    "print('\\nCoherence Score: ', coherence_lda)"
   ]
  },
  {
   "cell_type": "markdown",
   "metadata": {},
   "source": [
    "## Find optimal number of topics method 1"
   ]
  },
  {
   "cell_type": "code",
   "execution_count": 176,
   "metadata": {},
   "outputs": [],
   "source": [
    "def compute_coherence_values(texts, start, step, limit, topn):\n",
    "    dictionary = Dictionary(texts) # get the vocabulary\n",
    "    dictionary.filter_extremes(no_below=5, no_above=0.5)\n",
    "    corpus = [dictionary.doc2bow(text) for text in texts]\n",
    "\n",
    "    PATH_TO_MALLET = '/Users/rosalucassen/Documents/UU/DataMining/mallet-2.0.8/bin/mallet'\n",
    "    \n",
    "    coherence_values = []\n",
    "    model_list = []\n",
    "    for num_topics in range(start, limit, step):\n",
    "        model = gensim.models.wrappers.LdaMallet(PATH_TO_MALLET, corpus=corpus, num_topics=num_topics, id2word=dictionary, alpha=0.05)\n",
    "        model_list.append(model)\n",
    "        coherencemodel = CoherenceModel(model=model, texts=texts, dictionary=dictionary, coherence='c_v', topn=topn)\n",
    "        coherence_values.append(coherencemodel.get_coherence())\n",
    "\n",
    "    return model_list, coherence_values"
   ]
  },
  {
   "cell_type": "code",
   "execution_count": 180,
   "metadata": {},
   "outputs": [],
   "source": [
    "all_scores = []\n",
    "for n in range(5, 20, 5):\n",
    "    model_list, coherence_values = compute_coherence_values(texts=tokenized_texts_fake, start=1, step=1, limit=20, topn=n)\n",
    "    all_scores.append(coherence_values)"
   ]
  },
  {
   "cell_type": "code",
   "execution_count": 181,
   "metadata": {},
   "outputs": [],
   "source": [
    "all_scores = np.array(all_scores)\n",
    "avg_scores = np.average(all_scores, axis=0)"
   ]
  },
  {
   "cell_type": "code",
   "execution_count": 183,
   "metadata": {},
   "outputs": [
    {
     "name": "stdout",
     "output_type": "stream",
     "text": [
      "[0.54363045 0.64930074 0.62744405 0.62413749 0.63445646 0.61867678\n",
      " 0.65368036 0.64935616 0.59838726 0.63991965 0.60291616 0.61123779\n",
      " 0.58026933 0.61157551 0.59935581 0.58462733 0.61156904 0.60691159\n",
      " 0.59543923]\n"
     ]
    }
   ],
   "source": [
    "print(avg_scores)"
   ]
  },
  {
   "cell_type": "code",
   "execution_count": 182,
   "metadata": {
    "scrolled": true
   },
   "outputs": [
    {
     "data": {
      "image/png": "[encoded data removed]",
      "text/plain": [
       "<Figure size 432x288 with 1 Axes>"
      ]
     },
     "metadata": {
      "needs_background": "light"
     },
     "output_type": "display_data"
    }
   ],
   "source": [
    "#Using the c_v measure\n",
    "#model_list, coherence_values = compute_coherence_values(texts=tokenized_texts_fake, start=2, limit=40, step=6)\n",
    "# Show graph\n",
    "import matplotlib.pyplot as plt\n",
    "limit=20; start=1; step=1;\n",
    "x = range(start, limit, step)\n",
    "plt.plot(x, avg_scores)\n",
    "plt.xlabel(\"Num Topics\")\n",
    "plt.ylabel(\"Coherence score\")\n",
    "plt.legend((\"coherence_values\"), loc='best')\n",
    "plt.show()"
   ]
  },
  {
   "cell_type": "code",
   "execution_count": 184,
   "metadata": {},
   "outputs": [],
   "source": [
    "all_scores = []\n",
    "for n in range(5, 20, 5):\n",
    "    model_list, coherence_values = compute_coherence_values(texts=tokenized_texts_real, start=1, step=1, limit=30, topn=n)\n",
    "    all_scores.append(coherence_values)"
   ]
  },
  {
   "cell_type": "code",
   "execution_count": 185,
   "metadata": {},
   "outputs": [],
   "source": [
    "all_scores = np.array(all_scores)\n",
    "avg_scores = np.average(all_scores, axis=0)"
   ]
  },
  {
   "cell_type": "code",
   "execution_count": 186,
   "metadata": {},
   "outputs": [
    {
     "name": "stdout",
     "output_type": "stream",
     "text": [
      "[0.36500293 0.38244498 0.48543512 0.55054216 0.53780927 0.54347423\n",
      " 0.58194271 0.60635471 0.58794476 0.63753312 0.61495692 0.6156334\n",
      " 0.64776416 0.62340694 0.59499191 0.62371505 0.65963786 0.62901396\n",
      " 0.63051431 0.68319214 0.68455979 0.66679993 0.67102835 0.64659159\n",
      " 0.68351967 0.70265771 0.68480043 0.66020185 0.68072335]\n"
     ]
    }
   ],
   "source": [
    "print(avg_scores)"
   ]
  },
  {
   "cell_type": "code",
   "execution_count": 187,
   "metadata": {},
   "outputs": [
    {
     "data": {
      "image/png": "[encoded data removed]",
      "text/plain": [
       "<Figure size 432x288 with 1 Axes>"
      ]
     },
     "metadata": {
      "needs_background": "light"
     },
     "output_type": "display_data"
    }
   ],
   "source": [
    "# Show graph\n",
    "import matplotlib.pyplot as plt\n",
    "limit=30; start=1; step=1;\n",
    "x = range(start, limit, step)\n",
    "plt.plot(x, avg_scores)\n",
    "plt.xlabel(\"Num Topics\")\n",
    "plt.ylabel(\"Coherence score\")\n",
    "plt.legend((\"coherence_values\"), loc='best')\n",
    "plt.show()"
   ]
  },
  {
   "cell_type": "markdown",
   "metadata": {},
   "source": [
    "## Hierarchical Dirichlet Process"
   ]
  },
  {
   "cell_type": "markdown",
   "metadata": {},
   "source": [
    "#### fake news"
   ]
  },
  {
   "cell_type": "code",
   "execution_count": 139,
   "metadata": {},
   "outputs": [],
   "source": [
    "from gensim.models import CoherenceModel, HdpModel\n",
    "PATH_TO_MALLET = '/Users/rosalucassen/Documents/UU/DataMining/mallet-2.0.8/bin/mallet'"
   ]
  },
  {
   "cell_type": "code",
   "execution_count": 141,
   "metadata": {},
   "outputs": [],
   "source": [
    "id2word = Dictionary(tokenized_texts_fake) # get the vocabulary\n",
    "#dictionary.filter_extremes(no_below=5, no_above=0.5)\n",
    "corpus = [id2word.doc2bow(text) for text in tokenized_texts_fake]\n",
    "hdpmodel = HdpModel(corpus=corpus, id2word=id2word)"
   ]
  },
  {
   "cell_type": "code",
   "execution_count": 142,
   "metadata": {},
   "outputs": [
    {
     "data": {
      "text/plain": [
       "(0,\n",
       " [('claim', 0.007222445753590498),\n",
       "  ('say', 0.006069217021039408),\n",
       "  ('people', 0.0060012593073877395),\n",
       "  ('video', 0.005002783077813288),\n",
       "  ('virus', 0.004412920219695693),\n",
       "  ('vaccine', 0.0039339919092381895),\n",
       "  ('india', 0.0038835366557229893),\n",
       "  ('case', 0.003860807296534991),\n",
       "  ('show', 0.0038149263275887623),\n",
       "  ('trump', 0.0036573185568417317),\n",
       "  ('hospital', 0.0036230714902607346),\n",
       "  ('pandemic', 0.0035305276619245975),\n",
       "  ('new', 0.003459756397342815),\n",
       "  ('post', 0.0032966353016554064),\n",
       "  ('death', 0.003273107516951614),\n",
       "  ('president', 0.0032604772752978708),\n",
       "  ('time', 0.0031521398110199933),\n",
       "  ('test', 0.003034635509319714),\n",
       "  ('facebook', 0.003005493596450199),\n",
       "  ('die', 0.002951490778197793)])"
      ]
     },
     "execution_count": 142,
     "metadata": {},
     "output_type": "execute_result"
    }
   ],
   "source": [
    "hdptopics = hdpmodel.show_topics(formatted=False)\n",
    "hdptopics[0]\n"
   ]
  },
  {
   "cell_type": "code",
   "execution_count": 143,
   "metadata": {},
   "outputs": [
    {
     "data": {
      "text/plain": [
       "20"
      ]
     },
     "execution_count": 143,
     "metadata": {},
     "output_type": "execute_result"
    }
   ],
   "source": [
    "len(hdptopics)"
   ]
  },
  {
   "cell_type": "code",
   "execution_count": 144,
   "metadata": {},
   "outputs": [],
   "source": [
    "hdptopics = [[word for word, prob in topic] for topicid, topic in hdptopics]"
   ]
  },
  {
   "cell_type": "code",
   "execution_count": 146,
   "metadata": {},
   "outputs": [],
   "source": [
    "coherence_values_fake = []\n",
    "model_list = []\n",
    "for num_topics in range(1, 20):\n",
    "    coherencemodel = CoherenceModel(topics=hdptopics[:num_topics], \n",
    "                               texts=tokenized_texts_fake, \n",
    "                               dictionary=id2word, \n",
    "                               window_size=10).get_coherence()\n",
    "    coherence_values_fake.append(coherencemodel)\n",
    "    "
   ]
  },
  {
   "cell_type": "code",
   "execution_count": 173,
   "metadata": {},
   "outputs": [
    {
     "data": {
      "image/png": "[encoded data removed]",
      "text/plain": [
       "<Figure size 720x360 with 1 Axes>"
      ]
     },
     "metadata": {
      "needs_background": "light"
     },
     "output_type": "display_data"
    }
   ],
   "source": [
    "limit=20; start=1; step=1;\n",
    "x = range(start, limit, step)\n",
    "plt.figure(figsize=(10,5))\n",
    "plt.plot(x, coherence_values_fake)\n",
    "plt.xlabel(\"Num Topics\")\n",
    "plt.ylabel(\"Coherence score\")\n",
    "plt.legend((\"coherence_values\"), loc='best')\n",
    "plt.show()"
   ]
  },
  {
   "cell_type": "markdown",
   "metadata": {},
   "source": [
    "#### Real news"
   ]
  },
  {
   "cell_type": "code",
   "execution_count": 132,
   "metadata": {},
   "outputs": [],
   "source": [
    "dictionary = Dictionary(tokenized_texts_real) # get the vocabulary\n",
    "dictionary.filter_extremes(no_below=5, no_above=0.5)\n",
    "corpus = [dictionary.doc2bow(text) for text in tokenized_texts_real]\n",
    "PATH_TO_MALLET = '/Users/rosalucassen/Documents/UU/DataMining/mallet-2.0.8/bin/mallet'\n",
    "\n",
    "hdpmodel = HdpModel(corpus=corpus, id2word=dictionary)"
   ]
  },
  {
   "cell_type": "code",
   "execution_count": 133,
   "metadata": {},
   "outputs": [
    {
     "data": {
      "text/plain": [
       "(0,\n",
       " [('case', 0.025523983531214947),\n",
       "  ('new', 0.012975030111958498),\n",
       "  ('report', 0.01119337614754412),\n",
       "  ('number', 0.008751665836066586),\n",
       "  ('total', 0.0072855413466374344),\n",
       "  ('state', 0.0072171793549582796),\n",
       "  ('confirm', 0.0070577467177882405),\n",
       "  ('today', 0.005971241809233658),\n",
       "  ('death', 0.004789592575879819),\n",
       "  ('test', 0.004702469398956617),\n",
       "  ('day', 0.004545416841380457),\n",
       "  ('update', 0.004022199922872956),\n",
       "  ('confirm_case', 0.0038165227450384052),\n",
       "  ('isolation', 0.003771650700587155),\n",
       "  ('manage', 0.003389197001674924),\n",
       "  ('zealand', 0.003356341635651071),\n",
       "  ('total_number', 0.0032706144413171215),\n",
       "  ('active', 0.003260833341037474),\n",
       "  ('new_zealand', 0.0030208130204966597),\n",
       "  ('facility', 0.0028325493142271926)])"
      ]
     },
     "execution_count": 133,
     "metadata": {},
     "output_type": "execute_result"
    }
   ],
   "source": [
    "hdptopics = hdpmodel.show_topics(formatted=False)\n",
    "hdptopics[0]"
   ]
  },
  {
   "cell_type": "code",
   "execution_count": 134,
   "metadata": {},
   "outputs": [
    {
     "data": {
      "text/plain": [
       "20"
      ]
     },
     "execution_count": 134,
     "metadata": {},
     "output_type": "execute_result"
    }
   ],
   "source": [
    "len(hdptopics)"
   ]
  },
  {
   "cell_type": "code",
   "execution_count": 135,
   "metadata": {},
   "outputs": [],
   "source": [
    "hdptopics = [[word for word, prob in topic] for topicid, topic in hdptopics]"
   ]
  },
  {
   "cell_type": "code",
   "execution_count": 137,
   "metadata": {},
   "outputs": [],
   "source": [
    "coherence_values_real = []\n",
    "model_list = []\n",
    "for num_topics in range(1, 20):\n",
    "    coherencemodel = CoherenceModel(topics=hdptopics[:num_topics], \n",
    "                               texts=tokenized_texts_real, \n",
    "                               dictionary=dictionary, \n",
    "                               window_size=10).get_coherence()\n",
    "    coherence_values_real.append(coherencemodel)"
   ]
  },
  {
   "cell_type": "code",
   "execution_count": 138,
   "metadata": {},
   "outputs": [
    {
     "data": {
      "image/png": "[encoded data removed]",
      "text/plain": [
       "<Figure size 360x360 with 1 Axes>"
      ]
     },
     "metadata": {
      "needs_background": "light"
     },
     "output_type": "display_data"
    }
   ],
   "source": [
    "limit=20; start=1; step=1;\n",
    "x = range(start, limit, step)\n",
    "plt.figure(figsize=(5,5))\n",
    "plt.plot(x, coherence_values_real)\n",
    "plt.xlabel(\"Num Topics\")\n",
    "plt.ylabel(\"Coherence score\")\n",
    "plt.legend((\"coherence_values\"), loc='best')\n",
    "plt.show()"
   ]
  },
  {
   "cell_type": "code",
   "execution_count": 48,
   "metadata": {},
   "outputs": [],
   "source": [
    "def evaluate_bar_graph(coherences, indices):\n",
    "    assert len(coherences) == len(indices)\n",
    "    n = len(coherences)\n",
    "    x = np.arange(n)\n",
    "    plt.figure(figsize=(12,12))\n",
    "    plt.bar(x, coherences, width=0.2, tick_label=indices, align='center')\n",
    "    plt.xlabel('Models')\n",
    "    plt.ylabel('Coherence Value')"
   ]
  },
  {
   "cell_type": "code",
   "execution_count": 51,
   "metadata": {},
   "outputs": [
    {
     "data": {
      "image/png": "[encoded data removed]",
      "text/plain": [
       "<Figure size 864x864 with 1 Axes>"
      ]
     },
     "metadata": {
      "needs_background": "light"
     },
     "output_type": "display_data"
    }
   ],
   "source": [
    "import matplotlib.pyplot as plt\n",
    "%matplotlib inline\n",
    "evaluate_bar_graph([hdp_coherence],\n",
    "                   ['HDP'])"
   ]
  },
  {
   "cell_type": "markdown",
   "metadata": {},
   "source": [
    "## Document topic distribution"
   ]
  },
  {
   "cell_type": "markdown",
   "metadata": {},
   "source": [
    "###### Loop over documents to get topic distribution: Fake"
   ]
  },
  {
   "cell_type": "code",
   "execution_count": null,
   "metadata": {},
   "outputs": [],
   "source": [
    "transformed_docs = lda_fake.load_document_topics()"
   ]
  },
  {
   "cell_type": "code",
   "execution_count": null,
   "metadata": {},
   "outputs": [],
   "source": [
    "for i, document in enumerate(transformed_docs):\n",
    "    print('Topic distributions for document {}'.format(i))\n",
    "    for topic in document:\n",
    "        print(topic)"
   ]
  },
  {
   "cell_type": "code",
   "execution_count": null,
   "metadata": {},
   "outputs": [],
   "source": [
    "transformed_docs = lda_fake.load_document_topics()\n",
    "topic_distributions_fake = pd.DataFrame([[x[1] for x in doc] for doc in transformed_docs], \n",
    "             columns=['topic_{}'.format(i) for i in range(8)])\n",
    "topic_distributions_fake.tail()\n",
    "topic_distributions_fake.mean().sort_values(ascending=False)"
   ]
  },
  {
   "cell_type": "markdown",
   "metadata": {},
   "source": [
    "###### Loop over documents to get topic distribution: Real"
   ]
  },
  {
   "cell_type": "code",
   "execution_count": null,
   "metadata": {},
   "outputs": [],
   "source": [
    "transformed_docs = lda_real.load_document_topics()\n",
    "for i, document in enumerate(transformed_docs):\n",
    "    print('Topic distributions for document {}'.format(i))\n",
    "    for topic in document:\n",
    "        print(topic)"
   ]
  },
  {
   "cell_type": "code",
   "execution_count": null,
   "metadata": {},
   "outputs": [],
   "source": [
    "transformed_docs = lda_real.load_document_topics()\n",
    "topic_distributions_real = pd.DataFrame([[x[1] for x in doc] for doc in transformed_docs], \n",
    "             columns=['topic_{}'.format(i) for i in range(20)])\n",
    "topic_distributions_real.tail()\n",
    "#topic_distributions.mean().sort_values(ascending=False)"
   ]
  },
  {
   "cell_type": "markdown",
   "metadata": {},
   "source": [
    "## Find optimal number of topics using Gensim method 2"
   ]
  },
  {
   "cell_type": "markdown",
   "metadata": {},
   "source": [
    "This methods takes a very long time, but will also give alpha and beta values"
   ]
  },
  {
   "cell_type": "code",
   "execution_count": null,
   "metadata": {},
   "outputs": [],
   "source": [
    "def compute_coherence_values(corpus, dictionary, k, a, b):\n",
    "    lda_model = gensim.models.LdaMulticore(corpus=corpus, id2word=dictionary, num_topics=k, alpha = a, eta = b)\n",
    "    \n",
    "    coherence_model_lda = CoherenceModel(model=lda_model, texts=tokenized_texts_fake, dictionary=dictionary, coherence='c_v')\n",
    "    \n",
    "    return coherence_model_lda.get_coherence()\n",
    "    "
   ]
  },
  {
   "cell_type": "code",
   "execution_count": null,
   "metadata": {},
   "outputs": [],
   "source": [
    "import numpy as np\n",
    "import tqdm\n",
    "grid = {}\n",
    "\n",
    "dictionary = Dictionary(tokenized_texts_real) # get the vocabulary\n",
    "dictionary.filter_extremes(no_below=5, no_above=0.5)\n",
    "corpus = [dictionary.doc2bow(text) for text in tokenized_texts_real]\n",
    "PATH_TO_MALLET = '/Users/rosalucassen/Documents/UU/DataMining/mallet-2.0.8/bin/mallet'\n",
    "\n",
    "#grid['Validation_Set'] = {}\n",
    "# Topics range\n",
    "min_topics = 5\n",
    "max_topics = 40\n",
    "step_size = 1\n",
    "topics_range = range(min_topics, max_topics, step_size)\n",
    "# Alpha parameter\n",
    "alpha = list(np.arange(0.01, 1, 0.3))\n",
    "alpha.append('symmetric')\n",
    "alpha.append('asymmetric')\n",
    "# Beta parameter\n",
    "beta = list(np.arange(0.01, 1, 0.3))\n",
    "beta.append('symmetric')\n",
    "# Validation sets\n",
    "#corpus = [dictionary.doc2bow(text) for text in tokenized_texts_real]\n",
    "num_of_docs = len(corpus)\n",
    "#corpus_sets = [# gensim.utils.ClippedCorpus(corpus, num_of_docs*0.25), \n",
    "               # gensim.utils.ClippedCorpus(corpus, num_of_docs*0.5), \n",
    "               #gensim.utils.ClippedCorpus(corpus, int(num_of_docs*0.75)), \n",
    "               #corpus]\n",
    "#corpus_title = ['75% Corpus', '100% Corpus']\n",
    "model_results = {#'Validation_Set': [],\n",
    "                 'Topics': [],\n",
    "                 'Alpha': [],\n",
    "                 'Beta': [],\n",
    "                 'Coherence': []\n",
    "                }\n",
    "# Can take a long time to run\n",
    "if 1 == 1:\n",
    "    pbar = tqdm.tqdm(total=270)\n",
    "    \n",
    "    # iterate through validation corpuses\n",
    "    #for i in range(len(corpus_sets)):\n",
    "        # iterate through number of topics\n",
    "    for k in topics_range:\n",
    "        # iterate through alpha values\n",
    "        for a in alpha:\n",
    "            # iterare through beta values\n",
    "            for b in beta:\n",
    "                # get the coherence score for the given parameters\n",
    "                cv = compute_coherence_values(corpus=corpus, dictionary=dictionary, k=k, a=a, b=b)\n",
    "                # Save the model results\n",
    "                #model_results['Validation_Set'].append(corpus_title[i])\n",
    "                model_results['Topics'].append(k)\n",
    "                model_results['Alpha'].append(a)\n",
    "                model_results['Beta'].append(b)\n",
    "                model_results['Coherence'].append(cv)\n",
    "                    \n",
    "                pbar.update(1)\n",
    "    pd.DataFrame(model_results).to_csv('lda_tuning_results_real.csv', index=False)\n",
    "    pbar.close()"
   ]
  },
  {
   "cell_type": "markdown",
   "metadata": {},
   "source": [
    "## Results: Most distinctive words\n",
    "This gives an extreme output, why?"
   ]
  },
  {
   "cell_type": "code",
   "execution_count": null,
   "metadata": {},
   "outputs": [],
   "source": [
    "results_df = distinctive_words(flat_real, flat_fake)\n",
    "results_df.sort_values('llr', ascending=False).head(5)"
   ]
  }
 ],
 "metadata": {
  "kernelspec": {
   "display_name": "Python 3",
   "language": "python",
   "name": "python3"
  },
  "language_info": {
   "codemirror_mode": {
    "name": "ipython",
    "version": 3
   },
   "file_extension": ".py",
   "mimetype": "text/x-python",
   "name": "python",
   "nbconvert_exporter": "python",
   "pygments_lexer": "ipython3",
   "version": "3.8.3"
  }
 },
 "nbformat": 4,
 "nbformat_minor": 4
}
