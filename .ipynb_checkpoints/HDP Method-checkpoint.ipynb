{
 "cells": [
  {
   "cell_type": "markdown",
   "id": "505d504c",
   "metadata": {},
   "source": [
    "## Hierarchical Dirichlet Process"
   ]
  },
  {
   "cell_type": "markdown",
   "id": "d2d91ce3",
   "metadata": {},
   "source": [
    "Use the same pre-processing as Gensim model"
   ]
  },
  {
   "cell_type": "markdown",
   "id": "3a21e0f7",
   "metadata": {},
   "source": [
    "#### fake news"
   ]
  },
  {
   "cell_type": "code",
   "execution_count": 139,
   "id": "f0d6a15f",
   "metadata": {},
   "outputs": [],
   "source": [
    "from gensim.models import CoherenceModel, HdpModel\n",
    "PATH_TO_MALLET = '/Users/rosalucassen/Documents/UU/DataMining/mallet-2.0.8/bin/mallet'"
   ]
  },
  {
   "cell_type": "code",
   "execution_count": 141,
   "id": "a1f5ca34",
   "metadata": {},
   "outputs": [],
   "source": [
    "id2word = Dictionary(tokenized_texts_fake) # get the vocabulary\n",
    "#dictionary.filter_extremes(no_below=5, no_above=0.5)\n",
    "corpus = [id2word.doc2bow(text) for text in tokenized_texts_fake]\n",
    "hdpmodel = HdpModel(corpus=corpus, id2word=id2word)"
   ]
  },
  {
   "cell_type": "code",
   "execution_count": 142,
   "id": "cb8f2e60",
   "metadata": {},
   "outputs": [
    {
     "data": {
      "text/plain": [
       "(0,\n",
       " [('claim', 0.007222445753590498),\n",
       "  ('say', 0.006069217021039408),\n",
       "  ('people', 0.0060012593073877395),\n",
       "  ('video', 0.005002783077813288),\n",
       "  ('virus', 0.004412920219695693),\n",
       "  ('vaccine', 0.0039339919092381895),\n",
       "  ('india', 0.0038835366557229893),\n",
       "  ('case', 0.003860807296534991),\n",
       "  ('show', 0.0038149263275887623),\n",
       "  ('trump', 0.0036573185568417317),\n",
       "  ('hospital', 0.0036230714902607346),\n",
       "  ('pandemic', 0.0035305276619245975),\n",
       "  ('new', 0.003459756397342815),\n",
       "  ('post', 0.0032966353016554064),\n",
       "  ('death', 0.003273107516951614),\n",
       "  ('president', 0.0032604772752978708),\n",
       "  ('time', 0.0031521398110199933),\n",
       "  ('test', 0.003034635509319714),\n",
       "  ('facebook', 0.003005493596450199),\n",
       "  ('die', 0.002951490778197793)])"
      ]
     },
     "execution_count": 142,
     "metadata": {},
     "output_type": "execute_result"
    }
   ],
   "source": [
    "hdptopics = hdpmodel.show_topics(formatted=False)\n",
    "hdptopics[0]\n"
   ]
  },
  {
   "cell_type": "code",
   "execution_count": 143,
   "id": "2ecf32c6",
   "metadata": {},
   "outputs": [
    {
     "data": {
      "text/plain": [
       "20"
      ]
     },
     "execution_count": 143,
     "metadata": {},
     "output_type": "execute_result"
    }
   ],
   "source": [
    "len(hdptopics)"
   ]
  },
  {
   "cell_type": "code",
   "execution_count": 144,
   "id": "d9e463ea",
   "metadata": {},
   "outputs": [],
   "source": [
    "hdptopics = [[word for word, prob in topic] for topicid, topic in hdptopics]"
   ]
  },
  {
   "cell_type": "code",
   "execution_count": 146,
   "id": "6499bd55",
   "metadata": {},
   "outputs": [],
   "source": [
    "coherence_values_fake = []\n",
    "model_list = []\n",
    "for num_topics in range(1, 20):\n",
    "    coherencemodel = CoherenceModel(topics=hdptopics[:num_topics], \n",
    "                               texts=tokenized_texts_fake, \n",
    "                               dictionary=id2word, \n",
    "                               window_size=10).get_coherence()\n",
    "    coherence_values_fake.append(coherencemodel)\n",
    "    "
   ]
  },
  {
   "cell_type": "code",
   "execution_count": 173,
   "id": "955f5b59",
   "metadata": {},
   "outputs": [
    {
     "data": {
      "image/png": "[encoded data removed]",
      "text/plain": [
       "<Figure size 720x360 with 1 Axes>"
      ]
     },
     "metadata": {
      "needs_background": "light"
     },
     "output_type": "display_data"
    }
   ],
   "source": [
    "limit=20; start=1; step=1;\n",
    "x = range(start, limit, step)\n",
    "plt.figure(figsize=(10,5))\n",
    "plt.plot(x, coherence_values_fake)\n",
    "plt.xlabel(\"Num Topics\")\n",
    "plt.ylabel(\"Coherence score\")\n",
    "plt.legend((\"coherence_values\"), loc='best')\n",
    "plt.show()"
   ]
  },
  {
   "cell_type": "markdown",
   "id": "ab7ccc5f",
   "metadata": {},
   "source": [
    "#### Real news"
   ]
  },
  {
   "cell_type": "code",
   "execution_count": 132,
   "id": "7fd081ba",
   "metadata": {},
   "outputs": [],
   "source": [
    "dictionary = Dictionary(tokenized_texts_real) # get the vocabulary\n",
    "dictionary.filter_extremes(no_below=5, no_above=0.5)\n",
    "corpus = [dictionary.doc2bow(text) for text in tokenized_texts_real]\n",
    "PATH_TO_MALLET = '/Users/rosalucassen/Documents/UU/DataMining/mallet-2.0.8/bin/mallet'\n",
    "\n",
    "hdpmodel = HdpModel(corpus=corpus, id2word=dictionary)"
   ]
  },
  {
   "cell_type": "code",
   "execution_count": 133,
   "id": "29531ad5",
   "metadata": {},
   "outputs": [
    {
     "data": {
      "text/plain": [
       "(0,\n",
       " [('case', 0.025523983531214947),\n",
       "  ('new', 0.012975030111958498),\n",
       "  ('report', 0.01119337614754412),\n",
       "  ('number', 0.008751665836066586),\n",
       "  ('total', 0.0072855413466374344),\n",
       "  ('state', 0.0072171793549582796),\n",
       "  ('confirm', 0.0070577467177882405),\n",
       "  ('today', 0.005971241809233658),\n",
       "  ('death', 0.004789592575879819),\n",
       "  ('test', 0.004702469398956617),\n",
       "  ('day', 0.004545416841380457),\n",
       "  ('update', 0.004022199922872956),\n",
       "  ('confirm_case', 0.0038165227450384052),\n",
       "  ('isolation', 0.003771650700587155),\n",
       "  ('manage', 0.003389197001674924),\n",
       "  ('zealand', 0.003356341635651071),\n",
       "  ('total_number', 0.0032706144413171215),\n",
       "  ('active', 0.003260833341037474),\n",
       "  ('new_zealand', 0.0030208130204966597),\n",
       "  ('facility', 0.0028325493142271926)])"
      ]
     },
     "execution_count": 133,
     "metadata": {},
     "output_type": "execute_result"
    }
   ],
   "source": [
    "hdptopics = hdpmodel.show_topics(formatted=False)\n",
    "hdptopics[0]"
   ]
  },
  {
   "cell_type": "code",
   "execution_count": 134,
   "id": "bfbe0b0f",
   "metadata": {},
   "outputs": [
    {
     "data": {
      "text/plain": [
       "20"
      ]
     },
     "execution_count": 134,
     "metadata": {},
     "output_type": "execute_result"
    }
   ],
   "source": [
    "len(hdptopics)"
   ]
  },
  {
   "cell_type": "code",
   "execution_count": 135,
   "id": "271ed1a4",
   "metadata": {},
   "outputs": [],
   "source": [
    "hdptopics = [[word for word, prob in topic] for topicid, topic in hdptopics]"
   ]
  },
  {
   "cell_type": "code",
   "execution_count": 137,
   "id": "bebc02ed",
   "metadata": {},
   "outputs": [],
   "source": [
    "coherence_values_real = []\n",
    "model_list = []\n",
    "for num_topics in range(1, 20):\n",
    "    coherencemodel = CoherenceModel(topics=hdptopics[:num_topics], \n",
    "                               texts=tokenized_texts_real, \n",
    "                               dictionary=dictionary, \n",
    "                               window_size=10).get_coherence()\n",
    "    coherence_values_real.append(coherencemodel)"
   ]
  },
  {
   "cell_type": "code",
   "execution_count": 138,
   "id": "d163e306",
   "metadata": {},
   "outputs": [
    {
     "data": {
      "image/png": "[encoded data removed]",
      "text/plain": [
       "<Figure size 360x360 with 1 Axes>"
      ]
     },
     "metadata": {
      "needs_background": "light"
     },
     "output_type": "display_data"
    }
   ],
   "source": [
    "limit=20; start=1; step=1;\n",
    "x = range(start, limit, step)\n",
    "plt.figure(figsize=(5,5))\n",
    "plt.plot(x, coherence_values_real)\n",
    "plt.xlabel(\"Num Topics\")\n",
    "plt.ylabel(\"Coherence score\")\n",
    "plt.legend((\"coherence_values\"), loc='best')\n",
    "plt.show()"
   ]
  },
  {
   "cell_type": "code",
   "execution_count": 48,
   "id": "34614376",
   "metadata": {},
   "outputs": [],
   "source": [
    "def evaluate_bar_graph(coherences, indices):\n",
    "    assert len(coherences) == len(indices)\n",
    "    n = len(coherences)\n",
    "    x = np.arange(n)\n",
    "    plt.figure(figsize=(12,12))\n",
    "    plt.bar(x, coherences, width=0.2, tick_label=indices, align='center')\n",
    "    plt.xlabel('Models')\n",
    "    plt.ylabel('Coherence Value')"
   ]
  },
  {
   "cell_type": "code",
   "execution_count": 51,
   "id": "19468188",
   "metadata": {},
   "outputs": [
    {
     "data": {
      "image/png": "[encoded data removed]",
      "text/plain": [
       "<Figure size 864x864 with 1 Axes>"
      ]
     },
     "metadata": {
      "needs_background": "light"
     },
     "output_type": "display_data"
    }
   ],
   "source": [
    "import matplotlib.pyplot as plt\n",
    "%matplotlib inline\n",
    "evaluate_bar_graph([hdp_coherence],\n",
    "                   ['HDP'])"
   ]
  },
  {
   "cell_type": "code",
   "execution_count": null,
   "id": "b3f02d0a",
   "metadata": {},
   "outputs": [],
   "source": []
  }
 ],
 "metadata": {
  "kernelspec": {
   "display_name": "Python 3",
   "language": "python",
   "name": "python3"
  },
  "language_info": {
   "codemirror_mode": {
    "name": "ipython",
    "version": 3
   },
   "file_extension": ".py",
   "mimetype": "text/x-python",
   "name": "python",
   "nbconvert_exporter": "python",
   "pygments_lexer": "ipython3",
   "version": "3.8.3"
  }
 },
 "nbformat": 4,
 "nbformat_minor": 5
}
