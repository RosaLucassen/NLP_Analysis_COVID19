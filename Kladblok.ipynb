{
 "cells": [
  {
   "cell_type": "code",
   "execution_count": null,
   "metadata": {},
   "outputs": [],
   "source": [
    "flat = [remove_urls(text) for text in flat]\n",
    "    flat = [remove_emojis(text) for text in flat]\n",
    "    flat = [text.encode(\"ascii\", \"ignore\") for text in flat]\n",
    "    flat = [text.decode() for text in flat]\n",
    "    flat = [remove_extra_spaces(text) for text in flat]\n",
    "    flat = [text.rstrip(\"\\n\") for text in flat]\n",
    "    flat_real = [text.rstrip(\" \") for text in flat]"
   ]
  },
  {
   "cell_type": "code",
   "execution_count": 1,
   "metadata": {},
   "outputs": [],
   "source": [
    "\n",
    "    "
   ]
  }
 ],
 "metadata": {
  "kernelspec": {
   "display_name": "Python 3",
   "language": "python",
   "name": "python3"
  },
  "language_info": {
   "codemirror_mode": {
    "name": "ipython",
    "version": 3
   },
   "file_extension": ".py",
   "mimetype": "text/x-python",
   "name": "python",
   "nbconvert_exporter": "python",
   "pygments_lexer": "ipython3",
   "version": "3.8.3"
  }
 },
 "nbformat": 4,
 "nbformat_minor": 4
}
