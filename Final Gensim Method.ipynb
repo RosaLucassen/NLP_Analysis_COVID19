{
 "cells": [
  {
   "cell_type": "markdown",
   "metadata": {},
   "source": [
    "# Thesis ADS: Rosa Lucassen"
   ]
  },
  {
   "cell_type": "markdown",
   "metadata": {},
   "source": [
    "# Loading the data"
   ]
  },
  {
   "cell_type": "code",
   "execution_count": 26,
   "metadata": {},
   "outputs": [],
   "source": [
    "import pickle\n",
    "import pandas as pd\n",
    "import numpy as np\n",
    "from numpy import array\n",
    "\n",
    "import spacy\n",
    "import stop_words\n",
    "nlp = spacy.load(\"en_core_web_sm\")\n",
    "nlp.vocab[\"covid\"].is_stop = True\n",
    "nlp.vocab[\"corona\"].is_stop = True\n",
    "nlp.vocab[\"covid19\"].is_stop = True\n",
    "nlp.vocab[\"covid-19\"].is_stop = True\n",
    "nlp.vocab[\"corona\"].is_stop = True\n",
    "nlp.vocab[\"coronavirus\"].is_stop = True\n",
    "\n",
    "import re\n",
    "import emoji\n",
    "from collections import Counter\n",
    "from scipy.stats import chi2_contingency\n",
    "from urllib.parse import urlparse\n",
    "from nltk.stem.porter import PorterStemmer\n",
    "\n",
    "import gensim\n",
    "from gensim.models import Phrases\n",
    "from gensim.corpora import Dictionary\n",
    "from gensim.models.wrappers import LdaMallet\n",
    "from gensim.models.coherencemodel import CoherenceModel\n",
    "from gensim.models.ldamodel import LdaModel\n",
    "from gensim.corpora.dictionary import Dictionary\n",
    "\n",
    "import logging\n",
    "import pyLDAvis.gensim\n",
    "import json\n",
    "\n",
    "import warnings\n",
    "warnings.filterwarnings('ignore')  # To ignore all warnings that arise here to enhance clarity\n",
    "stemmer = PorterStemmer()"
   ]
  },
  {
   "cell_type": "markdown",
   "metadata": {},
   "source": [
    "# Function: Cleaning data"
   ]
  },
  {
   "cell_type": "code",
   "execution_count": 27,
   "metadata": {},
   "outputs": [],
   "source": [
    "def remove_single_char(text):\n",
    "    single_char_pattern = r'\\s+[a-zA-Z]\\s+'\n",
    "    without_sc = re.sub(pattern=single_char_pattern, repl=\" \", string=text)\n",
    "    return without_sc\n",
    "\n",
    "def remove_numbers(text):\n",
    "    number_pattern = r'\\b(?<![0-9-])(\\d+)(?![0-9-])'\n",
    "    without_number = re.sub(pattern=number_pattern, repl=\" \", string=text)\n",
    "    return without_number\n",
    "\n",
    "\n",
    "def remove_urls(text):\n",
    "    url_pattern = r'https?://\\S+|www\\.\\S+'\n",
    "    without_urls = re.sub(pattern=url_pattern, repl=\" \", string=text)\n",
    "    return without_urls\n",
    "\n",
    "\n",
    "def remove_emojis(text):\n",
    "    emoji_pattern = re.compile(\"[\"\n",
    "                               u\"\\U0001F600-\\U0001F64F\"  # emoticons\n",
    "                               u\"\\U0001F300-\\U0001F5FF\"  # symbols & pictographs\n",
    "                               u\"\\U0001F680-\\U0001F6FF\"  # transport & map symbols\n",
    "                               u\"\\U0001F1E0-\\U0001F1FF\"  # flags (iOS)\n",
    "                               u\"\\U00002500-\\U00002BEF\"  # chinese char\n",
    "                               u\"\\U00002702-\\U000027B0\"\n",
    "                               u\"\\U00002702-\\U000027B0\"\n",
    "                               u\"\\U000024C2-\\U0001F251\"\n",
    "                               u\"\\U0001f926-\\U0001f937\"\n",
    "                               u\"\\U00010000-\\U0010ffff\"\n",
    "                               u\"\\u2640-\\u2642\"\n",
    "                               u\"\\u2600-\\u2B55\"\n",
    "                               u\"\\u200d\"\n",
    "                               u\"\\u23cf\"\n",
    "                               u\"\\u23e9\"\n",
    "                               u\"\\u231a\"\n",
    "                               u\"\\ufe0f\"  # dingbats\n",
    "                               u\"\\u3030\"\n",
    "                               \"]+\", flags=re.UNICODE)\n",
    "    without_emoji = emoji_pattern.sub(r'',text)\n",
    "    return without_emoji\n",
    "\n",
    "def remove_nonalpha(text):\n",
    "    nonalpha_pattern = \"[+$@#?~]\"\n",
    "    without_nonalpha = re.sub(pattern=nonalpha_pattern, repl=\" \", string=text)\n",
    "    return without_nonalpha\n",
    "    \n",
    "def remove_rt(text):\n",
    "    rt_pattern = 'rt @[\\w_]+: '\n",
    "    without_pattern = re.sub(pattern = rt_pattern, repl=\" \", string = text)\n",
    "    return without_pattern \n",
    "\n",
    "def remove_extra_spaces(text):\n",
    "    space_pattern = r'\\s+'\n",
    "    without_space = re.sub(pattern=space_pattern, repl=\" \", string=text)\n",
    "    return without_space\n",
    "\n",
    "def strip_list_noempty(mylist):\n",
    "    newlist = (item.strip() if hasattr(item, 'strip') else item for item in mylist)\n",
    "    return [item for item in newlist if item != '']"
   ]
  },
  {
   "cell_type": "markdown",
   "metadata": {},
   "source": [
    "# Function: BiGrams"
   ]
  },
  {
   "cell_type": "code",
   "execution_count": 28,
   "metadata": {},
   "outputs": [],
   "source": [
    "from gensim.models import Phrases\n",
    "def make_n_grams(docs):\n",
    "    # Add bigrams and trigrams to docs (only ones that appear 20 times or more).\n",
    "    bigram = Phrases(docs, min_count=1)\n",
    "    for idx in range(len(docs)):\n",
    "        for token in bigram[docs[idx]]:\n",
    "            if '_' in token:\n",
    "                # Token is a bigram, add to document.\n",
    "                docs[idx].append(token)\n",
    "    return docs"
   ]
  },
  {
   "cell_type": "markdown",
   "metadata": {},
   "source": [
    "# Function: Lemmatizing texts"
   ]
  },
  {
   "cell_type": "code",
   "execution_count": 29,
   "metadata": {},
   "outputs": [],
   "source": [
    "def pre_processer_real(corpus):\n",
    "    corpus = [text.lower() for text in corpus]\n",
    "    corpus = [remove_urls(text) for text in corpus]\n",
    "    corpus = [remove_single_char(text) for text in corpus]\n",
    "    corpus = [remove_numbers(text) for text in corpus]\n",
    "    corpus = [remove_rt(text) for text in corpus]\n",
    "    corpus = [remove_emojis(text) for text in corpus]\n",
    "    corpus = [remove_nonalpha(text) for text in corpus]\n",
    "    corpus = [text.encode(\"ascii\", \"ignore\") for text in corpus]\n",
    "    corpus = [text.decode() for text in corpus]\n",
    "    corpus = [remove_extra_spaces(text) for text in corpus]\n",
    "    corpus = strip_list_noempty(corpus)\n",
    "    \n",
    "    processed_texts = [text for text in nlp.pipe(corpus, \n",
    "                                              disable=[\"ner\",\n",
    "                                                       \"parser\"])]\n",
    "    tokenized_texts = [[word.lemma_ for word in lemma_ if not word.is_punct if not word.is_stop] \n",
    "                            for lemma_ in processed_texts]\n",
    "    tokenized_texts = make_n_grams(tokenized_texts)\n",
    "    \n",
    "    flatten = lambda t: [item for sublist in t for item in sublist]\n",
    "    flat_real = flatten(tokenized_texts)\n",
    "    counts = Counter(flat_real)\n",
    "    total_words = sum(counts.values()) \n",
    "    for word in counts:\n",
    "        counts[word] = counts[word] #* (10000) / total_words\n",
    "    return counts, counts.most_common(), flat_real, tokenized_texts\n",
    "\n",
    "def pre_processer_fake(corpus):\n",
    "    corpus = [text.lower() for text in corpus]\n",
    "    corpus = [remove_urls(text) for text in corpus]\n",
    "    corpus = [remove_single_char(text) for text in corpus]\n",
    "    corpus = [remove_numbers(text) for text in corpus]\n",
    "    corpus = [remove_rt(text) for text in corpus]\n",
    "    corpus = [remove_emojis(text) for text in corpus]\n",
    "    corpus = [remove_nonalpha(text) for text in corpus]\n",
    "    corpus = [text.encode(\"ascii\", \"ignore\") for text in corpus]\n",
    "    corpus = [text.decode() for text in corpus]\n",
    "    corpus = [remove_extra_spaces(text) for text in corpus]\n",
    "    corpus = strip_list_noempty(corpus)\n",
    "\n",
    "    processed_texts = [text for text in nlp.pipe(corpus, \n",
    "                                              disable=[\"ner\",\n",
    "                                                       \"parser\"])]\n",
    "    tokenized_texts = [[word.lemma_ for word in lemma_ if not word.is_punct if not word.is_stop] \n",
    "                            for lemma_ in processed_texts]\n",
    "    tokenized_texts = make_n_grams(tokenized_texts)\n",
    "    \n",
    "    flatten = lambda t: [item for sublist in t for item in sublist]\n",
    "    flat_fake = flatten(tokenized_texts)\n",
    "    counts = Counter(flat_fake)\n",
    "    total_words = sum(counts.values()) \n",
    "    for word in counts:\n",
    "        counts[word] = counts[word] #* (10000) / total_words\n",
    "    return counts, counts.most_common(), flat_fake, tokenized_texts"
   ]
  },
  {
   "cell_type": "markdown",
   "metadata": {},
   "source": [
    "# Function: distinctive words"
   ]
  },
  {
   "cell_type": "code",
   "execution_count": 30,
   "metadata": {},
   "outputs": [],
   "source": [
    "def distinctive_words(target_corpus, reference_corpus):\n",
    "    counts_c1 = Counter(target_corpus) # don't forget to flatten your texts!\n",
    "    counts_c2 = Counter(reference_corpus)\n",
    "    vocabulary = set(list(counts_c1.keys()) + list(counts_c2.keys()))\n",
    "    freq_c1_total = sum(counts_c1.values()) \n",
    "    freq_c2_total = sum(counts_c2.values()) \n",
    "    results = []\n",
    "    for word in vocabulary:\n",
    "        freq_c1 = counts_c1[word]\n",
    "        freq_c2 = counts_c2[word]\n",
    "        freq_c1_other = freq_c1_total - freq_c1\n",
    "        freq_c2_other = freq_c2_total - freq_c2\n",
    "        llr, p_value,_,_ = chi2_contingency([[freq_c1, freq_c2], \n",
    "                      [freq_c1_other, freq_c2_other]],\n",
    "                      lambda_='log-likelihood') \n",
    "        if freq_c2 / freq_c2_other > freq_c1 / freq_c1_other:\n",
    "            llr = -llr\n",
    "        result = {'word':word, \n",
    "                    'llr':llr,\n",
    "                    'p_value': p_value}\n",
    "        results.append(result)\n",
    "    results_df = pd.DataFrame(results)\n",
    "    return results_df"
   ]
  },
  {
   "cell_type": "markdown",
   "metadata": {},
   "source": [
    "# Function: Topic modelling LDA Gensim"
   ]
  },
  {
   "cell_type": "code",
   "execution_count": 31,
   "metadata": {},
   "outputs": [],
   "source": [
    "# Shows all words instead of just the 10 most popular words\n",
    "def topic_modelling_results(tokenized_text, n_topics, n_iterations):\n",
    "    results = []\n",
    "\n",
    "    dictionary = Dictionary(tokenized_text) # get the vocabulary\n",
    "    corpus = [dictionary.doc2bow(text) for text in tokenized_text]\n",
    "\n",
    "    PATH_TO_MALLET = '/Users/rosalucassen/Documents/UU/DataMining/mallet-2.0.8/bin/mallet'\n",
    "    N_TOPICS = n_topics\n",
    "    N_ITERATIONS = n_iterations\n",
    "\n",
    "    lda = LdaMallet(PATH_TO_MALLET,\n",
    "                    corpus=corpus,\n",
    "                    id2word=dictionary,\n",
    "                    num_topics=N_TOPICS,\n",
    "                    iterations=N_ITERATIONS)\n",
    "    \n",
    "    for topic in range(N_TOPICS):\n",
    "        words = lda.show_topic(topic)\n",
    "        topic_n_words = ' '.join([word[0] for word in words])\n",
    "        result = {'Topic':str(topic), \n",
    "                    'Words':topic_n_words}\n",
    "        results.append(result)\n",
    "    results_DF = pd.DataFrame(results)\n",
    "    pd.set_option('display.max_colwidth', None)\n",
    "    return results_DF, lda, dictionary"
   ]
  },
  {
   "cell_type": "markdown",
   "metadata": {},
   "source": [
    "# Function: Compute Coherence Scores"
   ]
  },
  {
   "cell_type": "code",
   "execution_count": 32,
   "metadata": {},
   "outputs": [],
   "source": [
    "def compute_coherence_values(texts, start, step, limit, topn):\n",
    "    dictionary = Dictionary(texts) # get the vocabulary\n",
    "    dictionary.filter_extremes(no_below=5, no_above=0.5)\n",
    "    corpus = [dictionary.doc2bow(text) for text in texts]\n",
    "\n",
    "    PATH_TO_MALLET = '/Users/rosalucassen/Documents/UU/DataMining/mallet-2.0.8/bin/mallet'\n",
    "    \n",
    "    coherence_values = []\n",
    "    model_list = []\n",
    "    for num_topics in range(start, limit, step):\n",
    "        model = gensim.models.wrappers.LdaMallet(PATH_TO_MALLET, corpus=corpus, num_topics=num_topics, id2word=dictionary, alpha=0.05, iterations = 100)\n",
    "        model_list.append(model)\n",
    "        coherencemodel = CoherenceModel(model=model, texts=texts, dictionary=dictionary, coherence='c_v', topn=topn)\n",
    "        coherence_values.append(coherencemodel.get_coherence())\n",
    "\n",
    "    return model_list, coherence_values"
   ]
  },
  {
   "cell_type": "markdown",
   "metadata": {},
   "source": [
    "## Exploring the data"
   ]
  },
  {
   "cell_type": "code",
   "execution_count": null,
   "metadata": {},
   "outputs": [],
   "source": [
    "d_test = pd.read_excel(\"/Users/rosalucassen/Desktop/Thesis/Code/Data/Constraint_English_Test2.xlsx\", engine='openpyxl')\n",
    "d_train = pd.read_excel(\"/Users/rosalucassen/Desktop/Thesis/Code/Data/Constraint_English_Train.xlsx\", engine='openpyxl')\n",
    "d_val = pd.read_excel(\"/Users/rosalucassen/Desktop/Thesis/Code/Data/Constraint_English_Val.xlsx\", engine='openpyxl')\n",
    "d_test_labeled = pd.read_excel(\"/Users/rosalucassen/Desktop/Thesis/Code/Data/english_test_with_labels.xlsx\", engine='openpyxl')"
   ]
  },
  {
   "cell_type": "markdown",
   "metadata": {},
   "source": [
    "#### Training data"
   ]
  },
  {
   "cell_type": "code",
   "execution_count": null,
   "metadata": {},
   "outputs": [],
   "source": [
    "d_train.info()"
   ]
  },
  {
   "cell_type": "code",
   "execution_count": null,
   "metadata": {},
   "outputs": [],
   "source": [
    "d_train.head()"
   ]
  },
  {
   "cell_type": "code",
   "execution_count": null,
   "metadata": {
    "scrolled": false
   },
   "outputs": [],
   "source": [
    "d_train[\"label\"].unique()"
   ]
  },
  {
   "cell_type": "code",
   "execution_count": null,
   "metadata": {},
   "outputs": [],
   "source": [
    "grouped_train = d_train.groupby('label').count() \n",
    "grouped_train.head()"
   ]
  },
  {
   "cell_type": "markdown",
   "metadata": {},
   "source": [
    "#### Validation data"
   ]
  },
  {
   "cell_type": "code",
   "execution_count": null,
   "metadata": {},
   "outputs": [],
   "source": [
    "d_val.info()"
   ]
  },
  {
   "cell_type": "code",
   "execution_count": null,
   "metadata": {},
   "outputs": [],
   "source": [
    "d_val.head()"
   ]
  },
  {
   "cell_type": "code",
   "execution_count": null,
   "metadata": {},
   "outputs": [],
   "source": [
    "d_val[\"label\"].unique()"
   ]
  },
  {
   "cell_type": "code",
   "execution_count": null,
   "metadata": {},
   "outputs": [],
   "source": [
    "grouped_val = d_val.groupby('label').count() \n",
    "grouped_val.head()"
   ]
  },
  {
   "cell_type": "markdown",
   "metadata": {},
   "source": [
    "### Test data"
   ]
  },
  {
   "cell_type": "code",
   "execution_count": null,
   "metadata": {},
   "outputs": [],
   "source": [
    "d_test.info()"
   ]
  },
  {
   "cell_type": "code",
   "execution_count": null,
   "metadata": {
    "scrolled": true
   },
   "outputs": [],
   "source": [
    "d_test.head()"
   ]
  },
  {
   "cell_type": "code",
   "execution_count": null,
   "metadata": {},
   "outputs": [],
   "source": [
    "d_test_labeled.info()"
   ]
  },
  {
   "cell_type": "code",
   "execution_count": null,
   "metadata": {},
   "outputs": [],
   "source": [
    "d_test_labeled.head()"
   ]
  },
  {
   "cell_type": "code",
   "execution_count": null,
   "metadata": {},
   "outputs": [],
   "source": [
    "d_test_labeled[\"label\"].unique()"
   ]
  },
  {
   "cell_type": "code",
   "execution_count": null,
   "metadata": {
    "scrolled": false
   },
   "outputs": [],
   "source": [
    "grouped_test = d_test_labeled.groupby('label').count() \n",
    "grouped_test.head()"
   ]
  },
  {
   "cell_type": "markdown",
   "metadata": {},
   "source": [
    "## Combine labelled data"
   ]
  },
  {
   "cell_type": "code",
   "execution_count": 8,
   "metadata": {},
   "outputs": [
    {
     "data": {
      "text/html": [
       "<div>\n",
       "<style scoped>\n",
       "    .dataframe tbody tr th:only-of-type {\n",
       "        vertical-align: middle;\n",
       "    }\n",
       "\n",
       "    .dataframe tbody tr th {\n",
       "        vertical-align: top;\n",
       "    }\n",
       "\n",
       "    .dataframe thead th {\n",
       "        text-align: right;\n",
       "    }\n",
       "</style>\n",
       "<table border=\"1\" class=\"dataframe\">\n",
       "  <thead>\n",
       "    <tr style=\"text-align: right;\">\n",
       "      <th></th>\n",
       "      <th>id</th>\n",
       "      <th>tweet</th>\n",
       "      <th>label</th>\n",
       "    </tr>\n",
       "  </thead>\n",
       "  <tbody>\n",
       "    <tr>\n",
       "      <th>0</th>\n",
       "      <td>1</td>\n",
       "      <td>The CDC currently reports 99031 deaths. In gen...</td>\n",
       "      <td>real</td>\n",
       "    </tr>\n",
       "    <tr>\n",
       "      <th>1</th>\n",
       "      <td>2</td>\n",
       "      <td>States reported 1121 deaths a small rise from ...</td>\n",
       "      <td>real</td>\n",
       "    </tr>\n",
       "    <tr>\n",
       "      <th>2</th>\n",
       "      <td>3</td>\n",
       "      <td>Politically Correct Woman (Almost) Uses Pandem...</td>\n",
       "      <td>fake</td>\n",
       "    </tr>\n",
       "    <tr>\n",
       "      <th>3</th>\n",
       "      <td>4</td>\n",
       "      <td>#IndiaFightsCorona: We have 1524 #COVID testin...</td>\n",
       "      <td>real</td>\n",
       "    </tr>\n",
       "    <tr>\n",
       "      <th>4</th>\n",
       "      <td>5</td>\n",
       "      <td>Populous states can generate large case counts...</td>\n",
       "      <td>real</td>\n",
       "    </tr>\n",
       "  </tbody>\n",
       "</table>\n",
       "</div>"
      ],
      "text/plain": [
       "   id                                              tweet label\n",
       "0   1  The CDC currently reports 99031 deaths. In gen...  real\n",
       "1   2  States reported 1121 deaths a small rise from ...  real\n",
       "2   3  Politically Correct Woman (Almost) Uses Pandem...  fake\n",
       "3   4  #IndiaFightsCorona: We have 1524 #COVID testin...  real\n",
       "4   5  Populous states can generate large case counts...  real"
      ]
     },
     "execution_count": 8,
     "metadata": {},
     "output_type": "execute_result"
    }
   ],
   "source": [
    "data_train = pd.concat([d_train, d_test_labeled, d_val])\n",
    "data_train.head()"
   ]
  },
  {
   "cell_type": "code",
   "execution_count": 108,
   "metadata": {},
   "outputs": [
    {
     "name": "stdout",
     "output_type": "stream",
     "text": [
      "<class 'pandas.core.frame.DataFrame'>\n",
      "Int64Index: 10700 entries, 0 to 2139\n",
      "Data columns (total 3 columns):\n",
      " #   Column  Non-Null Count  Dtype \n",
      "---  ------  --------------  ----- \n",
      " 0   id      10700 non-null  int64 \n",
      " 1   tweet   10700 non-null  object\n",
      " 2   label   10700 non-null  object\n",
      "dtypes: int64(1), object(2)\n",
      "memory usage: 334.4+ KB\n"
     ]
    }
   ],
   "source": [
    "data_train.info()"
   ]
  },
  {
   "cell_type": "code",
   "execution_count": 109,
   "metadata": {},
   "outputs": [
    {
     "data": {
      "text/html": [
       "<div>\n",
       "<style scoped>\n",
       "    .dataframe tbody tr th:only-of-type {\n",
       "        vertical-align: middle;\n",
       "    }\n",
       "\n",
       "    .dataframe tbody tr th {\n",
       "        vertical-align: top;\n",
       "    }\n",
       "\n",
       "    .dataframe thead th {\n",
       "        text-align: right;\n",
       "    }\n",
       "</style>\n",
       "<table border=\"1\" class=\"dataframe\">\n",
       "  <thead>\n",
       "    <tr style=\"text-align: right;\">\n",
       "      <th></th>\n",
       "      <th>id</th>\n",
       "      <th>tweet</th>\n",
       "    </tr>\n",
       "    <tr>\n",
       "      <th>label</th>\n",
       "      <th></th>\n",
       "      <th></th>\n",
       "    </tr>\n",
       "  </thead>\n",
       "  <tbody>\n",
       "    <tr>\n",
       "      <th>fake</th>\n",
       "      <td>5100</td>\n",
       "      <td>5100</td>\n",
       "    </tr>\n",
       "    <tr>\n",
       "      <th>real</th>\n",
       "      <td>5600</td>\n",
       "      <td>5600</td>\n",
       "    </tr>\n",
       "  </tbody>\n",
       "</table>\n",
       "</div>"
      ],
      "text/plain": [
       "         id  tweet\n",
       "label             \n",
       "fake   5100   5100\n",
       "real   5600   5600"
      ]
     },
     "execution_count": 109,
     "metadata": {},
     "output_type": "execute_result"
    }
   ],
   "source": [
    "grouped_train = data_train.groupby('label').count() \n",
    "grouped_train.head()"
   ]
  },
  {
   "cell_type": "code",
   "execution_count": 159,
   "metadata": {},
   "outputs": [],
   "source": []
  },
  {
   "cell_type": "markdown",
   "metadata": {},
   "source": [
    "## Results: Pre-processing (before manually removing COVID-19 stopwords)"
   ]
  },
  {
   "cell_type": "code",
   "execution_count": 9,
   "metadata": {
    "scrolled": true
   },
   "outputs": [
    {
     "name": "stdout",
     "output_type": "stream",
     "text": [
      "[('coronavirus', 2129), ('covid-19', 1601), ('say', 575), ('claim', 521), ('people', 507), ('virus', 441), ('vaccine', 405), ('trump', 390), ('covid19', 372), ('pandemic', 368), ('case', 368), ('new', 366), ('test', 351), ('video', 327), ('india', 327), ('hospital', 319), ('covid', 300), ('death', 289), ('president', 277), ('show', 276)]\n",
      "[('case', 2963), ('covid19', 2216), ('test', 1811), ('report', 1481), ('new', 1463), ('state', 1371), ('covid-19', 1146), ('number', 1057), ('death', 1044), ('total', 878), ('people', 783), ('confirm', 731), ('amp', 705), ('day', 693), ('today', 641), ('testing', 605), ('update', 577), ('coronavirus', 575), ('indiafightscorona', 546), ('india', 501)]\n"
     ]
    }
   ],
   "source": [
    "corpus_train_fake = data_train[data_train.label == \"fake\"][\"tweet\"]\n",
    "corpus_train_real = data_train[data_train.label == \"real\"][\"tweet\"]\n",
    "word_count_fake, output_fake, flat_fake, tokenized_texts_fake = pre_processer_fake(corpus_train_fake)\n",
    "print(output_fake[:20])\n",
    "word_count_real, output_real, flat_real, tokenized_texts_real = pre_processer_real(corpus_train_real)\n",
    "print(output_real[:20])"
   ]
  },
  {
   "cell_type": "code",
   "execution_count": 161,
   "metadata": {},
   "outputs": [
    {
     "data": {
      "image/png": "[encoded data removed]",
      "text/plain": [
       "<Figure size 432x288 with 1 Axes>"
      ]
     },
     "metadata": {
      "needs_background": "light"
     },
     "output_type": "display_data"
    },
    {
     "data": {
      "text/plain": [
       "<AxesSubplot:title={'center':'Frequency distribution fake news'}, xlabel='Samples', ylabel='Counts'>"
      ]
     },
     "execution_count": 161,
     "metadata": {},
     "output_type": "execute_result"
    }
   ],
   "source": [
    "import nltk\n",
    "from nltk import FreqDist\n",
    "fdist_filtered = FreqDist(word_count_fake)\n",
    "fdist_filtered.plot(70,title='Frequency distribution fake news')"
   ]
  },
  {
   "cell_type": "code",
   "execution_count": 113,
   "metadata": {},
   "outputs": [
    {
     "data": {
      "image/png": "[encoded data removed]",
      "text/plain": [
       "<Figure size 432x288 with 1 Axes>"
      ]
     },
     "metadata": {
      "needs_background": "light"
     },
     "output_type": "display_data"
    },
    {
     "data": {
      "text/plain": [
       "<AxesSubplot:title={'center':'Frequency distribution fake news'}, xlabel='Samples', ylabel='Counts'>"
      ]
     },
     "execution_count": 113,
     "metadata": {},
     "output_type": "execute_result"
    }
   ],
   "source": [
    "fdist_filtered = FreqDist(word_count_real)\n",
    "fdist_filtered.plot(70,title='Frequency distribution fake news')"
   ]
  },
  {
   "cell_type": "markdown",
   "metadata": {},
   "source": [
    "So, lets try removing \"coronavirus\", \"covid-19\" and \"covid19\".\n",
    "\n",
    "The fake news dataset had: \n",
    "- 2129x \"coronavirus\" \n",
    "- 1601x \"covid-19\"\n",
    "- 372x \"covid19\"\n",
    "\n",
    "The real news dataset had:\n",
    "- 2963x \"case\"\n",
    "- 2216x \"covid19\"\n",
    "- 1811x \"case\"\n",
    "- 1481x \"report\"\n",
    "- 1463x \"new\"\n",
    "- 1371x \"state\"\n",
    "- 1146x \"covid-19\"\n",
    "- 575x \"coronavirus\""
   ]
  },
  {
   "cell_type": "markdown",
   "metadata": {},
   "source": [
    "## Results: Topic modelling LDA Gensim"
   ]
  },
  {
   "cell_type": "markdown",
   "metadata": {},
   "source": [
    "#### Fake news"
   ]
  },
  {
   "cell_type": "code",
   "execution_count": 114,
   "metadata": {},
   "outputs": [
    {
     "data": {
      "text/html": [
       "<div>\n",
       "<style scoped>\n",
       "    .dataframe tbody tr th:only-of-type {\n",
       "        vertical-align: middle;\n",
       "    }\n",
       "\n",
       "    .dataframe tbody tr th {\n",
       "        vertical-align: top;\n",
       "    }\n",
       "\n",
       "    .dataframe thead th {\n",
       "        text-align: right;\n",
       "    }\n",
       "</style>\n",
       "<table border=\"1\" class=\"dataframe\">\n",
       "  <thead>\n",
       "    <tr style=\"text-align: right;\">\n",
       "      <th></th>\n",
       "      <th>Topic</th>\n",
       "      <th>Words</th>\n",
       "    </tr>\n",
       "  </thead>\n",
       "  <tbody>\n",
       "    <tr>\n",
       "      <th>0</th>\n",
       "      <td>0</td>\n",
       "      <td>people pandemic death lockdown state case italy infection number flu</td>\n",
       "    </tr>\n",
       "    <tr>\n",
       "      <th>1</th>\n",
       "      <td>1</td>\n",
       "      <td>virus test cure news day kill positive world find infect</td>\n",
       "    </tr>\n",
       "    <tr>\n",
       "      <th>2</th>\n",
       "      <td>2</td>\n",
       "      <td>claim video hospital show die patient doctor post time vaccine</td>\n",
       "    </tr>\n",
       "    <tr>\n",
       "      <th>3</th>\n",
       "      <td>3</td>\n",
       "      <td>mask china government man spread chinese wear year work wuhan</td>\n",
       "    </tr>\n",
       "    <tr>\n",
       "      <th>4</th>\n",
       "      <td>4</td>\n",
       "      <td>trump president vaccine india health case country donald report fact</td>\n",
       "    </tr>\n",
       "  </tbody>\n",
       "</table>\n",
       "</div>"
      ],
      "text/plain": [
       "  Topic                                                                 Words\n",
       "0     0  people pandemic death lockdown state case italy infection number flu\n",
       "1     1              virus test cure news day kill positive world find infect\n",
       "2     2        claim video hospital show die patient doctor post time vaccine\n",
       "3     3         mask china government man spread chinese wear year work wuhan\n",
       "4     4  trump president vaccine india health case country donald report fact"
      ]
     },
     "execution_count": 114,
     "metadata": {},
     "output_type": "execute_result"
    }
   ],
   "source": [
    "topics, lda_fake, dictionary = topic_modelling_results(tokenized_texts_fake, 5, 400)\n",
    "topics"
   ]
  },
  {
   "cell_type": "code",
   "execution_count": 115,
   "metadata": {},
   "outputs": [
    {
     "name": "stdout",
     "output_type": "stream",
     "text": [
      "\n",
      "Coherence Score:  0.44484759625892306\n"
     ]
    }
   ],
   "source": [
    "# Compute Coherence Score using c_v\n",
    "coherence_model_lda = CoherenceModel(model=lda_fake, texts=tokenized_texts_fake, dictionary=dictionary, coherence='c_v')\n",
    "coherence_lda = coherence_model_lda.get_coherence()\n",
    "print('\\nCoherence Score: ', coherence_lda)"
   ]
  },
  {
   "cell_type": "markdown",
   "metadata": {},
   "source": [
    "- Two topics:     c_v = 0.535\n",
    "- Three topics:   c_v = 0.4999\n",
    "- Four topics:    c_v = 0.440\n",
    "- Five topics :   c_v = 0.4562\n",
    "- Six topics:     c_v = 0.387\n",
    "- Seven topics:   c_v = 0.367\n",
    "- Eight topics:   c_v = 0.406\n",
    "- Nine topics:    c_v = 0.4006\n",
    "\n",
    "- Ten topics:     c_v = 0.4048\n",
    "- Eleven topics:  c_v = 0.3759\n",
    "- Twelve topics:  c_v = 0.372\n",
    "- Thirteen topics:c_v = 0.3959\n",
    "- Fourteen topics:c_v = 0.3869\n",
    "- Fifteen topics: c_v = 0.3956\n",
    "\n",
    "- Twenty topics:  c_v = 0.4009\n",
    "- Fourty topics:  c_v = 0.41147\n",
    "- Fifty topics:   c_v = 0.4391\n",
    "- Sixty topics:   c_v = 0.4329\n",
    "- Seventy topics: c_v = 0.443\n",
    "- Eighty topics:  c_v = 0.4402"
   ]
  },
  {
   "cell_type": "markdown",
   "metadata": {},
   "source": [
    "#### Real news"
   ]
  },
  {
   "cell_type": "code",
   "execution_count": 116,
   "metadata": {
    "scrolled": true
   },
   "outputs": [
    {
     "data": {
      "text/html": [
       "<div>\n",
       "<style scoped>\n",
       "    .dataframe tbody tr th:only-of-type {\n",
       "        vertical-align: middle;\n",
       "    }\n",
       "\n",
       "    .dataframe tbody tr th {\n",
       "        vertical-align: top;\n",
       "    }\n",
       "\n",
       "    .dataframe thead th {\n",
       "        text-align: right;\n",
       "    }\n",
       "</style>\n",
       "<table border=\"1\" class=\"dataframe\">\n",
       "  <thead>\n",
       "    <tr style=\"text-align: right;\">\n",
       "      <th></th>\n",
       "      <th>Topic</th>\n",
       "      <th>Words</th>\n",
       "    </tr>\n",
       "  </thead>\n",
       "  <tbody>\n",
       "    <tr>\n",
       "      <th>0</th>\n",
       "      <td>0</td>\n",
       "      <td>spread face mask wear protect amp public slow hand learn</td>\n",
       "    </tr>\n",
       "    <tr>\n",
       "      <th>1</th>\n",
       "      <td>1</td>\n",
       "      <td>state datum number hospitalization report york new_york alexismadrigal large positive</td>\n",
       "    </tr>\n",
       "    <tr>\n",
       "      <th>2</th>\n",
       "      <td>2</td>\n",
       "      <td>case confirm death nigeria pm april report state confirm_case discharge</td>\n",
       "    </tr>\n",
       "    <tr>\n",
       "      <th>3</th>\n",
       "      <td>3</td>\n",
       "      <td>case total test confirm complete state bring date yesterday bring_total</td>\n",
       "    </tr>\n",
       "    <tr>\n",
       "      <th>4</th>\n",
       "      <td>4</td>\n",
       "      <td>amp testing health lab capacity response service public_health national public</td>\n",
       "    </tr>\n",
       "    <tr>\n",
       "      <th>5</th>\n",
       "      <td>5</td>\n",
       "      <td>death case covid19nigeria show case_covid19nigeria confirm south discharge cdc late</td>\n",
       "    </tr>\n",
       "    <tr>\n",
       "      <th>6</th>\n",
       "      <td>6</td>\n",
       "      <td>case isolation facility community manage positive manage_isolation quarantine update auckland</td>\n",
       "    </tr>\n",
       "    <tr>\n",
       "      <th>7</th>\n",
       "      <td>7</td>\n",
       "      <td>contact amp close result virus clinical treatment travel lead early</td>\n",
       "    </tr>\n",
       "    <tr>\n",
       "      <th>8</th>\n",
       "      <td>8</td>\n",
       "      <td>test report state update daily state_report track million publish daily_update</td>\n",
       "    </tr>\n",
       "    <tr>\n",
       "      <th>9</th>\n",
       "      <td>9</td>\n",
       "      <td>home infection high outbreak level person area issue place base</td>\n",
       "    </tr>\n",
       "    <tr>\n",
       "      <th>10</th>\n",
       "      <td>10</td>\n",
       "      <td>people symptom find child important medical visit include family change</td>\n",
       "    </tr>\n",
       "    <tr>\n",
       "      <th>11</th>\n",
       "      <td>11</td>\n",
       "      <td>people hospital today covid_19 coronavirusupdate covid__19 coronavirusindia north city covidupdate</td>\n",
       "    </tr>\n",
       "    <tr>\n",
       "      <th>12</th>\n",
       "      <td>12</td>\n",
       "      <td>number case report total total_number zealand new_zealand health remain confirm_case</td>\n",
       "    </tr>\n",
       "    <tr>\n",
       "      <th>13</th>\n",
       "      <td>13</td>\n",
       "      <td>test day testing increase continue high cumulative drharshvardhan pib_india pmoindia</td>\n",
       "    </tr>\n",
       "    <tr>\n",
       "      <th>14</th>\n",
       "      <td>14</td>\n",
       "      <td>country vaccine study drtedros minister drtedro work pandemic rule access</td>\n",
       "    </tr>\n",
       "    <tr>\n",
       "      <th>15</th>\n",
       "      <td>15</td>\n",
       "      <td>case active indiafightscorona recover active_case staysafe indiawillwin mohfw_india sample total</td>\n",
       "    </tr>\n",
       "    <tr>\n",
       "      <th>16</th>\n",
       "      <td>16</td>\n",
       "      <td>risk patient learn work cdc pandemic group provide year plan</td>\n",
       "    </tr>\n",
       "    <tr>\n",
       "      <th>17</th>\n",
       "      <td>17</td>\n",
       "      <td>india rate recovery indiafightscorona lakh high record indiafightscorona_india hour conduct</td>\n",
       "    </tr>\n",
       "    <tr>\n",
       "      <th>18</th>\n",
       "      <td>18</td>\n",
       "      <td>uk restriction late government follow lockdown read live measure add</td>\n",
       "    </tr>\n",
       "    <tr>\n",
       "      <th>19</th>\n",
       "      <td>19</td>\n",
       "      <td>death week report day today average low time 7-day fall</td>\n",
       "    </tr>\n",
       "  </tbody>\n",
       "</table>\n",
       "</div>"
      ],
      "text/plain": [
       "   Topic  \\\n",
       "0      0   \n",
       "1      1   \n",
       "2      2   \n",
       "3      3   \n",
       "4      4   \n",
       "5      5   \n",
       "6      6   \n",
       "7      7   \n",
       "8      8   \n",
       "9      9   \n",
       "10    10   \n",
       "11    11   \n",
       "12    12   \n",
       "13    13   \n",
       "14    14   \n",
       "15    15   \n",
       "16    16   \n",
       "17    17   \n",
       "18    18   \n",
       "19    19   \n",
       "\n",
       "                                                                                                 Words  \n",
       "0                                             spread face mask wear protect amp public slow hand learn  \n",
       "1                state datum number hospitalization report york new_york alexismadrigal large positive  \n",
       "2                              case confirm death nigeria pm april report state confirm_case discharge  \n",
       "3                              case total test confirm complete state bring date yesterday bring_total  \n",
       "4                       amp testing health lab capacity response service public_health national public  \n",
       "5                  death case covid19nigeria show case_covid19nigeria confirm south discharge cdc late  \n",
       "6        case isolation facility community manage positive manage_isolation quarantine update auckland  \n",
       "7                                  contact amp close result virus clinical treatment travel lead early  \n",
       "8                       test report state update daily state_report track million publish daily_update  \n",
       "9                                      home infection high outbreak level person area issue place base  \n",
       "10                             people symptom find child important medical visit include family change  \n",
       "11  people hospital today covid_19 coronavirusupdate covid__19 coronavirusindia north city covidupdate  \n",
       "12                number case report total total_number zealand new_zealand health remain confirm_case  \n",
       "13                test day testing increase continue high cumulative drharshvardhan pib_india pmoindia  \n",
       "14                           country vaccine study drtedros minister drtedro work pandemic rule access  \n",
       "15    case active indiafightscorona recover active_case staysafe indiawillwin mohfw_india sample total  \n",
       "16                                        risk patient learn work cdc pandemic group provide year plan  \n",
       "17         india rate recovery indiafightscorona lakh high record indiafightscorona_india hour conduct  \n",
       "18                                uk restriction late government follow lockdown read live measure add  \n",
       "19                                             death week report day today average low time 7-day fall  "
      ]
     },
     "execution_count": 116,
     "metadata": {},
     "output_type": "execute_result"
    }
   ],
   "source": [
    "topics_real, lda_real, dictionary = topic_modelling_results(tokenized_texts_real, 20, 400)\n",
    "topics_real"
   ]
  },
  {
   "cell_type": "code",
   "execution_count": 117,
   "metadata": {},
   "outputs": [
    {
     "name": "stdout",
     "output_type": "stream",
     "text": [
      "\n",
      "Coherence Score:  0.48230457915828195\n"
     ]
    }
   ],
   "source": [
    "# Compute Coherence Score using c_v\n",
    "coherence_model_lda = CoherenceModel(model=lda_real, texts=tokenized_texts_real, dictionary=dictionary, coherence='c_v')\n",
    "coherence_lda = coherence_model_lda.get_coherence()\n",
    "print('\\nCoherence Score: ', coherence_lda)"
   ]
  },
  {
   "cell_type": "markdown",
   "metadata": {},
   "source": [
    "## Find optimal number of topics method 1"
   ]
  },
  {
   "cell_type": "code",
   "execution_count": 21,
   "metadata": {},
   "outputs": [],
   "source": []
  },
  {
   "cell_type": "code",
   "execution_count": 22,
   "metadata": {},
   "outputs": [],
   "source": [
    "all_scores = []\n",
    "for n in range(5, 20, 5):\n",
    "    model_list, coherence_values = compute_coherence_values(texts=tokenized_texts_fake, start=1, step=1, limit=20, topn=n)\n",
    "    all_scores.append(coherence_values)"
   ]
  },
  {
   "cell_type": "code",
   "execution_count": 23,
   "metadata": {},
   "outputs": [],
   "source": [
    "all_scores = np.array(all_scores)\n",
    "avg_scores = np.average(all_scores, axis=0)"
   ]
  },
  {
   "cell_type": "code",
   "execution_count": 24,
   "metadata": {},
   "outputs": [
    {
     "name": "stdout",
     "output_type": "stream",
     "text": [
      "[0.46207272 0.51538277 0.49240862 0.51411769 0.52653608 0.51387602\n",
      " 0.49971948 0.53991166 0.52272855 0.52590871 0.50244737 0.51837497\n",
      " 0.5166939  0.51840365 0.52919327 0.51197809 0.49490049 0.52450141\n",
      " 0.48350141]\n"
     ]
    }
   ],
   "source": [
    "print(avg_scores)"
   ]
  },
  {
   "cell_type": "code",
   "execution_count": 25,
   "metadata": {
    "scrolled": true
   },
   "outputs": [
    {
     "data": {
      "image/png": "[encoded data removed]",
      "text/plain": [
       "<Figure size 432x288 with 1 Axes>"
      ]
     },
     "metadata": {
      "needs_background": "light"
     },
     "output_type": "display_data"
    }
   ],
   "source": [
    "#Using the c_v measure\n",
    "#model_list, coherence_values = compute_coherence_values(texts=tokenized_texts_fake, start=2, limit=40, step=6)\n",
    "# Show graph\n",
    "import matplotlib.pyplot as plt\n",
    "limit=20; start=1; step=1;\n",
    "x = range(start, limit, step)\n",
    "plt.plot(x, avg_scores)\n",
    "plt.xlabel(\"Num Topics\")\n",
    "plt.ylabel(\"Coherence score\")\n",
    "plt.legend((\"coherence_values\"), loc='best')\n",
    "plt.show()"
   ]
  },
  {
   "cell_type": "code",
   "execution_count": 17,
   "metadata": {},
   "outputs": [],
   "source": [
    "all_scores = []\n",
    "for n in range(5, 20, 5):\n",
    "    model_list, coherence_values = compute_coherence_values(texts=tokenized_texts_real, start=1, step=1, limit=30, topn=n)\n",
    "    all_scores.append(coherence_values)"
   ]
  },
  {
   "cell_type": "code",
   "execution_count": 18,
   "metadata": {},
   "outputs": [],
   "source": [
    "all_scores = np.array(all_scores)\n",
    "avg_scores = np.average(all_scores, axis=0)"
   ]
  },
  {
   "cell_type": "code",
   "execution_count": 19,
   "metadata": {},
   "outputs": [
    {
     "name": "stdout",
     "output_type": "stream",
     "text": [
      "[0.38136909 0.40410413 0.45544969 0.44497899 0.52285065 0.52160221\n",
      " 0.55125075 0.56076005 0.55991529 0.52864393 0.57945209 0.57667645\n",
      " 0.54985082 0.57792407 0.5667824  0.56176754 0.56851917 0.57831931\n",
      " 0.55321105 0.57987279 0.5909845  0.56818399 0.59261365 0.58073423\n",
      " 0.58545289 0.57957485 0.6167774  0.61975652 0.57091537]\n"
     ]
    }
   ],
   "source": [
    "print(avg_scores)"
   ]
  },
  {
   "cell_type": "code",
   "execution_count": 20,
   "metadata": {},
   "outputs": [
    {
     "data": {
      "image/png": "[encoded data removed]",
      "text/plain": [
       "<Figure size 432x288 with 1 Axes>"
      ]
     },
     "metadata": {
      "needs_background": "light"
     },
     "output_type": "display_data"
    }
   ],
   "source": [
    "# Show graph\n",
    "import matplotlib.pyplot as plt\n",
    "limit=30; start=1; step=1;\n",
    "x = range(start, limit, step)\n",
    "plt.plot(x, avg_scores)\n",
    "plt.xlabel(\"Num Topics\")\n",
    "plt.ylabel(\"Coherence score\")\n",
    "plt.legend((\"coherence_values\"), loc='best')\n",
    "plt.show()"
   ]
  },
  {
   "cell_type": "markdown",
   "metadata": {},
   "source": [
    "## Document topic distribution"
   ]
  },
  {
   "cell_type": "markdown",
   "metadata": {},
   "source": [
    "###### Loop over documents to get topic distribution: Fake"
   ]
  },
  {
   "cell_type": "code",
   "execution_count": null,
   "metadata": {},
   "outputs": [],
   "source": [
    "transformed_docs = lda_fake.load_document_topics()"
   ]
  },
  {
   "cell_type": "code",
   "execution_count": null,
   "metadata": {},
   "outputs": [],
   "source": [
    "for i, document in enumerate(transformed_docs):\n",
    "    print('Topic distributions for document {}'.format(i))\n",
    "    for topic in document:\n",
    "        print(topic)"
   ]
  },
  {
   "cell_type": "code",
   "execution_count": null,
   "metadata": {},
   "outputs": [],
   "source": [
    "transformed_docs = lda_fake.load_document_topics()\n",
    "topic_distributions_fake = pd.DataFrame([[x[1] for x in doc] for doc in transformed_docs], \n",
    "             columns=['topic_{}'.format(i) for i in range(8)])\n",
    "topic_distributions_fake.tail()\n",
    "topic_distributions_fake.mean().sort_values(ascending=False)"
   ]
  },
  {
   "cell_type": "markdown",
   "metadata": {},
   "source": [
    "###### Loop over documents to get topic distribution: Real"
   ]
  },
  {
   "cell_type": "code",
   "execution_count": null,
   "metadata": {},
   "outputs": [],
   "source": [
    "transformed_docs = lda_real.load_document_topics()\n",
    "for i, document in enumerate(transformed_docs):\n",
    "    print('Topic distributions for document {}'.format(i))\n",
    "    for topic in document:\n",
    "        print(topic)"
   ]
  },
  {
   "cell_type": "code",
   "execution_count": null,
   "metadata": {},
   "outputs": [],
   "source": [
    "transformed_docs = lda_real.load_document_topics()\n",
    "topic_distributions_real = pd.DataFrame([[x[1] for x in doc] for doc in transformed_docs], \n",
    "             columns=['topic_{}'.format(i) for i in range(20)])\n",
    "topic_distributions_real.tail()\n",
    "#topic_distributions.mean().sort_values(ascending=False)"
   ]
  },
  {
   "cell_type": "markdown",
   "metadata": {},
   "source": [
    "## Find optimal number of topics using Gensim method 2"
   ]
  },
  {
   "cell_type": "markdown",
   "metadata": {},
   "source": [
    "This methods takes a very long time, but will also give alpha and beta values"
   ]
  },
  {
   "cell_type": "code",
   "execution_count": null,
   "metadata": {},
   "outputs": [],
   "source": [
    "def compute_coherence_values(corpus, dictionary, k, a, b):\n",
    "    lda_model = gensim.models.LdaMulticore(corpus=corpus, id2word=dictionary, num_topics=k, alpha = a, eta = b)\n",
    "    \n",
    "    coherence_model_lda = CoherenceModel(model=lda_model, texts=tokenized_texts_fake, dictionary=dictionary, coherence='c_v')\n",
    "    \n",
    "    return coherence_model_lda.get_coherence()\n",
    "    "
   ]
  },
  {
   "cell_type": "code",
   "execution_count": null,
   "metadata": {},
   "outputs": [],
   "source": [
    "import numpy as np\n",
    "import tqdm\n",
    "grid = {}\n",
    "\n",
    "dictionary = Dictionary(tokenized_texts_real) # get the vocabulary\n",
    "dictionary.filter_extremes(no_below=5, no_above=0.5)\n",
    "corpus = [dictionary.doc2bow(text) for text in tokenized_texts_real]\n",
    "PATH_TO_MALLET = '/Users/rosalucassen/Documents/UU/DataMining/mallet-2.0.8/bin/mallet'\n",
    "\n",
    "#grid['Validation_Set'] = {}\n",
    "# Topics range\n",
    "min_topics = 5\n",
    "max_topics = 40\n",
    "step_size = 1\n",
    "topics_range = range(min_topics, max_topics, step_size)\n",
    "# Alpha parameter\n",
    "alpha = list(np.arange(0.01, 1, 0.3))\n",
    "alpha.append('symmetric')\n",
    "alpha.append('asymmetric')\n",
    "# Beta parameter\n",
    "beta = list(np.arange(0.01, 1, 0.3))\n",
    "beta.append('symmetric')\n",
    "# Validation sets\n",
    "#corpus = [dictionary.doc2bow(text) for text in tokenized_texts_real]\n",
    "num_of_docs = len(corpus)\n",
    "#corpus_sets = [# gensim.utils.ClippedCorpus(corpus, num_of_docs*0.25), \n",
    "               # gensim.utils.ClippedCorpus(corpus, num_of_docs*0.5), \n",
    "               #gensim.utils.ClippedCorpus(corpus, int(num_of_docs*0.75)), \n",
    "               #corpus]\n",
    "#corpus_title = ['75% Corpus', '100% Corpus']\n",
    "model_results = {#'Validation_Set': [],\n",
    "                 'Topics': [],\n",
    "                 'Alpha': [],\n",
    "                 'Beta': [],\n",
    "                 'Coherence': []\n",
    "                }\n",
    "# Can take a long time to run\n",
    "if 1 == 1:\n",
    "    pbar = tqdm.tqdm(total=270)\n",
    "    \n",
    "    # iterate through validation corpuses\n",
    "    #for i in range(len(corpus_sets)):\n",
    "        # iterate through number of topics\n",
    "    for k in topics_range:\n",
    "        # iterate through alpha values\n",
    "        for a in alpha:\n",
    "            # iterare through beta values\n",
    "            for b in beta:\n",
    "                # get the coherence score for the given parameters\n",
    "                cv = compute_coherence_values(corpus=corpus, dictionary=dictionary, k=k, a=a, b=b)\n",
    "                # Save the model results\n",
    "                #model_results['Validation_Set'].append(corpus_title[i])\n",
    "                model_results['Topics'].append(k)\n",
    "                model_results['Alpha'].append(a)\n",
    "                model_results['Beta'].append(b)\n",
    "                model_results['Coherence'].append(cv)\n",
    "                    \n",
    "                pbar.update(1)\n",
    "    pd.DataFrame(model_results).to_csv('lda_tuning_results_real.csv', index=False)\n",
    "    pbar.close()"
   ]
  },
  {
   "cell_type": "markdown",
   "metadata": {},
   "source": [
    "## Results: Most distinctive words\n",
    "This gives an extreme output, why?"
   ]
  },
  {
   "cell_type": "code",
   "execution_count": null,
   "metadata": {},
   "outputs": [],
   "source": [
    "results_df = distinctive_words(flat_real, flat_fake)\n",
    "results_df.sort_values('llr', ascending=False).head(5)"
   ]
  }
 ],
 "metadata": {
  "kernelspec": {
   "display_name": "Python 3",
   "language": "python",
   "name": "python3"
  },
  "language_info": {
   "codemirror_mode": {
    "name": "ipython",
    "version": 3
   },
   "file_extension": ".py",
   "mimetype": "text/x-python",
   "name": "python",
   "nbconvert_exporter": "python",
   "pygments_lexer": "ipython3",
   "version": "3.8.3"
  }
 },
 "nbformat": 4,
 "nbformat_minor": 4
}
